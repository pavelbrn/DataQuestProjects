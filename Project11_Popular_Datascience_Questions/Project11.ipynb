{
 "cells": [
  {
   "cell_type": "markdown",
   "metadata": {},
   "source": [
    "# Popular Data Science Questions"
   ]
  },
  {
   "cell_type": "markdown",
   "metadata": {},
   "source": [
    "In this guided project we will be exploring the Data Science Stack Exchange website and we will pinpoint the most popular content that is being talked about. \n",
    "\n",
    "First, we will query the DSSE database to retrieve a csv file about all posts in 2019 pertaining to the  CreationDate, Score, ViewCount, Tags, AnswerCount, FavoriteCount columns. The following is the SQL Quary we used."
   ]
  },
  {
   "cell_type": "markdown",
   "metadata": {
    "collapsed": true
   },
   "source": [
    "SELECT CreationDate, Score, ViewCount, Tags, AnswerCount,FavoriteCount\n",
    "FROM posts\n",
    "WHERE CreationDate >= '2019-01-01' AND  CreationDate <= '2019-12-31'"
   ]
  },
  {
   "cell_type": "markdown",
   "metadata": {},
   "source": [
    "### Importing Tools and Dataset"
   ]
  },
  {
   "cell_type": "code",
   "execution_count": 1,
   "metadata": {
    "collapsed": true
   },
   "outputs": [],
   "source": [
    "import pandas as pd\n",
    "import matplotlib.pyplot as plt\n",
    "import seaborn as sns\n",
    "\n",
    "%matplotlib inline"
   ]
  },
  {
   "cell_type": "code",
   "execution_count": 2,
   "metadata": {
    "collapsed": true
   },
   "outputs": [],
   "source": [
    "questions = pd.read_csv(\"2019_questions.csv\", parse_dates=[\"CreationDate\"])"
   ]
  },
  {
   "cell_type": "markdown",
   "metadata": {},
   "source": [
    "### Exploring the Data"
   ]
  },
  {
   "cell_type": "markdown",
   "metadata": {},
   "source": [
    "- The column 'FavoriteCount' contains a large number of null values in our dataset, about 75% are null values\n",
    "- We can fill in these values with 0\n",
    "- The datatypes correspond corretly to the columns after we run the .info() method\n",
    "- We can remove the brackets from the Tags column and replace them with multi index tupules, nother option would be to remove the brackets and replace them with a delimiter such as a \",\".\n"
   ]
  },
  {
   "cell_type": "code",
   "execution_count": 3,
   "metadata": {
    "collapsed": false
   },
   "outputs": [
    {
     "data": {
      "text/html": [
       "<div>\n",
       "<style scoped>\n",
       "    .dataframe tbody tr th:only-of-type {\n",
       "        vertical-align: middle;\n",
       "    }\n",
       "\n",
       "    .dataframe tbody tr th {\n",
       "        vertical-align: top;\n",
       "    }\n",
       "\n",
       "    .dataframe thead th {\n",
       "        text-align: right;\n",
       "    }\n",
       "</style>\n",
       "<table border=\"1\" class=\"dataframe\">\n",
       "  <thead>\n",
       "    <tr style=\"text-align: right;\">\n",
       "      <th></th>\n",
       "      <th>Id</th>\n",
       "      <th>CreationDate</th>\n",
       "      <th>Score</th>\n",
       "      <th>ViewCount</th>\n",
       "      <th>Tags</th>\n",
       "      <th>AnswerCount</th>\n",
       "      <th>FavoriteCount</th>\n",
       "    </tr>\n",
       "  </thead>\n",
       "  <tbody>\n",
       "    <tr>\n",
       "      <th>0</th>\n",
       "      <td>44419</td>\n",
       "      <td>2019-01-23 09:21:13</td>\n",
       "      <td>1</td>\n",
       "      <td>21</td>\n",
       "      <td>&lt;machine-learning&gt;&lt;data-mining&gt;</td>\n",
       "      <td>0</td>\n",
       "      <td>NaN</td>\n",
       "    </tr>\n",
       "    <tr>\n",
       "      <th>1</th>\n",
       "      <td>44420</td>\n",
       "      <td>2019-01-23 09:34:01</td>\n",
       "      <td>0</td>\n",
       "      <td>25</td>\n",
       "      <td>&lt;machine-learning&gt;&lt;regression&gt;&lt;linear-regressi...</td>\n",
       "      <td>0</td>\n",
       "      <td>NaN</td>\n",
       "    </tr>\n",
       "    <tr>\n",
       "      <th>2</th>\n",
       "      <td>44423</td>\n",
       "      <td>2019-01-23 09:58:41</td>\n",
       "      <td>2</td>\n",
       "      <td>1651</td>\n",
       "      <td>&lt;python&gt;&lt;time-series&gt;&lt;forecast&gt;&lt;forecasting&gt;</td>\n",
       "      <td>0</td>\n",
       "      <td>NaN</td>\n",
       "    </tr>\n",
       "    <tr>\n",
       "      <th>3</th>\n",
       "      <td>44427</td>\n",
       "      <td>2019-01-23 10:57:09</td>\n",
       "      <td>0</td>\n",
       "      <td>55</td>\n",
       "      <td>&lt;machine-learning&gt;&lt;scikit-learn&gt;&lt;pca&gt;</td>\n",
       "      <td>1</td>\n",
       "      <td>NaN</td>\n",
       "    </tr>\n",
       "    <tr>\n",
       "      <th>4</th>\n",
       "      <td>44428</td>\n",
       "      <td>2019-01-23 11:02:15</td>\n",
       "      <td>0</td>\n",
       "      <td>19</td>\n",
       "      <td>&lt;dataset&gt;&lt;bigdata&gt;&lt;data&gt;&lt;speech-to-text&gt;</td>\n",
       "      <td>0</td>\n",
       "      <td>NaN</td>\n",
       "    </tr>\n",
       "  </tbody>\n",
       "</table>\n",
       "</div>"
      ],
      "text/plain": [
       "      Id        CreationDate  Score  ViewCount  \\\n",
       "0  44419 2019-01-23 09:21:13      1         21   \n",
       "1  44420 2019-01-23 09:34:01      0         25   \n",
       "2  44423 2019-01-23 09:58:41      2       1651   \n",
       "3  44427 2019-01-23 10:57:09      0         55   \n",
       "4  44428 2019-01-23 11:02:15      0         19   \n",
       "\n",
       "                                                Tags  AnswerCount  \\\n",
       "0                    <machine-learning><data-mining>            0   \n",
       "1  <machine-learning><regression><linear-regressi...            0   \n",
       "2       <python><time-series><forecast><forecasting>            0   \n",
       "3              <machine-learning><scikit-learn><pca>            1   \n",
       "4           <dataset><bigdata><data><speech-to-text>            0   \n",
       "\n",
       "   FavoriteCount  \n",
       "0            NaN  \n",
       "1            NaN  \n",
       "2            NaN  \n",
       "3            NaN  \n",
       "4            NaN  "
      ]
     },
     "execution_count": 3,
     "metadata": {},
     "output_type": "execute_result"
    }
   ],
   "source": [
    "questions.head()"
   ]
  },
  {
   "cell_type": "code",
   "execution_count": 4,
   "metadata": {
    "collapsed": false
   },
   "outputs": [
    {
     "name": "stdout",
     "output_type": "stream",
     "text": [
      "<class 'pandas.core.frame.DataFrame'>\n",
      "RangeIndex: 8839 entries, 0 to 8838\n",
      "Data columns (total 7 columns):\n",
      "Id               8839 non-null int64\n",
      "CreationDate     8839 non-null datetime64[ns]\n",
      "Score            8839 non-null int64\n",
      "ViewCount        8839 non-null int64\n",
      "Tags             8839 non-null object\n",
      "AnswerCount      8839 non-null int64\n",
      "FavoriteCount    1407 non-null float64\n",
      "dtypes: datetime64[ns](1), float64(1), int64(4), object(1)\n",
      "memory usage: 483.5+ KB\n"
     ]
    }
   ],
   "source": [
    "\n",
    "questions.info()"
   ]
  },
  {
   "cell_type": "markdown",
   "metadata": {
    "collapsed": true
   },
   "source": [
    "### Cleaning the Dataset"
   ]
  },
  {
   "cell_type": "markdown",
   "metadata": {},
   "source": []
  },
  {
   "cell_type": "code",
   "execution_count": 5,
   "metadata": {
    "collapsed": false
   },
   "outputs": [],
   "source": [
    "# Replace NaN values with 0 inside the FavoriteCount column\n",
    "questions[\"FavoriteCount\"].fillna(0,inplace= True)"
   ]
  },
  {
   "cell_type": "code",
   "execution_count": 6,
   "metadata": {
    "collapsed": false
   },
   "outputs": [
    {
     "name": "stdout",
     "output_type": "stream",
     "text": [
      "<class 'pandas.core.frame.DataFrame'>\n",
      "RangeIndex: 8839 entries, 0 to 8838\n",
      "Data columns (total 7 columns):\n",
      "Id               8839 non-null int64\n",
      "CreationDate     8839 non-null datetime64[ns]\n",
      "Score            8839 non-null int64\n",
      "ViewCount        8839 non-null int64\n",
      "Tags             8839 non-null object\n",
      "AnswerCount      8839 non-null int64\n",
      "FavoriteCount    8839 non-null int64\n",
      "dtypes: datetime64[ns](1), int64(5), object(1)\n",
      "memory usage: 483.5+ KB\n"
     ]
    }
   ],
   "source": [
    "# Change the float type to an int inside the FavoriteCount column\n",
    "questions[\"FavoriteCount\"]= questions[\"FavoriteCount\"].astype(int)\n",
    "questions.info()"
   ]
  },
  {
   "cell_type": "markdown",
   "metadata": {},
   "source": [
    "Next, we remove the \"<\" and \">\" from the Tags column and place a \",\" as a delimiter between each individual topic"
   ]
  },
  {
   "cell_type": "code",
   "execution_count": 7,
   "metadata": {
    "collapsed": false
   },
   "outputs": [
    {
     "data": {
      "text/plain": [
       "0                         machine-learning,data-mining\n",
       "1    machine-learning,regression,linear-regression,...\n",
       "2              python,time-series,forecast,forecasting\n",
       "3                    machine-learning,scikit-learn,pca\n",
       "4                  dataset,bigdata,data,speech-to-text\n",
       "Name: Tags, dtype: object"
      ]
     },
     "execution_count": 7,
     "metadata": {},
     "output_type": "execute_result"
    }
   ],
   "source": [
    "questions[\"Tags\"] = questions[\"Tags\"].str.replace(\"><\",\",\").str.replace(\"<\",\"\").str.replace(\">\",\"\")\n",
    "questions[\"Tags\"].head()"
   ]
  },
  {
   "cell_type": "markdown",
   "metadata": {
    "collapsed": true
   },
   "source": [
    "### Visualizing Tags by Popularity"
   ]
  },
  {
   "cell_type": "markdown",
   "metadata": {
    "collapsed": true
   },
   "source": [
    "We will visualize Tag popularity in two ways:\n",
    "- Frequency of tags used\n",
    "- View count for each tag type"
   ]
  },
  {
   "cell_type": "markdown",
   "metadata": {
    "collapsed": true
   },
   "source": [
    "#### I. Tags vs Tag Frequency"
   ]
  },
  {
   "cell_type": "code",
   "execution_count": 8,
   "metadata": {
    "collapsed": false
   },
   "outputs": [],
   "source": [
    "# Split all tags using the \",\" as a delimiter first, this will create a list of tags in each row\n",
    "questions[\"Tags\"]=questions[\"Tags\"].str.split(\",\")"
   ]
  },
  {
   "cell_type": "code",
   "execution_count": 9,
   "metadata": {
    "collapsed": false
   },
   "outputs": [],
   "source": [
    "# This funtion will return a dctionary of each topics frequency count\n",
    "tag_count = {}\n",
    "def get_type(row):        \n",
    "    array_tags=row[\"Tags\"]#.split(\",\")\n",
    "    \n",
    "    for tag in array_tags:\n",
    "        if tag not in tag_count:\n",
    "            tag_count[tag] = 1\n",
    "        else:\n",
    "            tag_count[tag] += 1"
   ]
  },
  {
   "cell_type": "code",
   "execution_count": 10,
   "metadata": {
    "collapsed": false
   },
   "outputs": [],
   "source": [
    "show_type = questions.apply(get_type, axis = 1)"
   ]
  },
  {
   "cell_type": "code",
   "execution_count": 11,
   "metadata": {
    "collapsed": false
   },
   "outputs": [
    {
     "data": {
      "text/plain": [
       "machine-learning    2693\n",
       "python              1814\n",
       "deep-learning       1220\n",
       "neural-network      1055\n",
       "keras                935\n",
       "classification       685\n",
       "tensorflow           584\n",
       "scikit-learn         540\n",
       "nlp                  493\n",
       "cnn                  489\n",
       "dtype: int64"
      ]
     },
     "execution_count": 11,
     "metadata": {},
     "output_type": "execute_result"
    }
   ],
   "source": [
    "tag_count_series = pd.Series(tag_count)\n",
    "tag_count_series.sort_values(ascending = False).head(10)"
   ]
  },
  {
   "cell_type": "code",
   "execution_count": 12,
   "metadata": {
    "collapsed": false
   },
   "outputs": [
    {
     "data": {
      "image/png": "[encoded data removed]",
      "text/plain": [
       "<matplotlib.figure.Figure at 0x7f4ef0948fd0>"
      ]
     },
     "metadata": {},
     "output_type": "display_data"
    }
   ],
   "source": [
    "plot_data_top_10 = tag_count_series.sort_values(ascending = False).head(10)\n",
    "plot_data_top_10.plot(kind = \"barh\", figsize =(20,10)).invert_yaxis()\n",
    "\n",
    "plt.show()"
   ]
  },
  {
   "cell_type": "code",
   "execution_count": null,
   "metadata": {
    "collapsed": true
   },
   "outputs": [],
   "source": []
  },
  {
   "cell_type": "code",
   "execution_count": null,
   "metadata": {
    "collapsed": true
   },
   "outputs": [],
   "source": []
  },
  {
   "cell_type": "markdown",
   "metadata": {
    "collapsed": true
   },
   "source": [
    "#### II. Tags vs Tag Views"
   ]
  },
  {
   "cell_type": "markdown",
   "metadata": {},
   "source": []
  },
  {
   "cell_type": "code",
   "execution_count": 13,
   "metadata": {
    "collapsed": true
   },
   "outputs": [],
   "source": [
    "tag_view_dict = {}\n",
    "def get_views(row):        \n",
    "    array_tags=row[\"Tags\"]\n",
    "    \n",
    "    for tag in array_tags:\n",
    "        #print(array_tags)\n",
    "        if tag not in tag_view_dict:\n",
    "            tag_view_dict[tag] = row[\"ViewCount\"]\n",
    "        else:\n",
    "            tag_view_dict[tag] += row[\"ViewCount\"]"
   ]
  },
  {
   "cell_type": "code",
   "execution_count": 14,
   "metadata": {
    "collapsed": false
   },
   "outputs": [],
   "source": [
    "view_type = questions.apply(get_views, axis = 1)\n",
    "#print(tag_view_dict)"
   ]
  },
  {
   "cell_type": "code",
   "execution_count": 15,
   "metadata": {
    "collapsed": false
   },
   "outputs": [],
   "source": [
    "tag_views_series = pd.Series(tag_view_dict)\n",
    "top_10_viewed = tag_views_series.sort_values(ascending = False).head(10)"
   ]
  },
  {
   "cell_type": "code",
   "execution_count": 16,
   "metadata": {
    "collapsed": false
   },
   "outputs": [
    {
     "data": {
      "image/png": "[encoded data removed]",
      "text/plain": [
       "<matplotlib.figure.Figure at 0x7f4ef0b5b8d0>"
      ]
     },
     "metadata": {},
     "output_type": "display_data"
    }
   ],
   "source": [
    "top_10_viewed.plot(kind = \"barh\", figsize =(20,10)).invert_yaxis()\n",
    "plt.show()"
   ]
  },
  {
   "cell_type": "markdown",
   "metadata": {
    "collapsed": true
   },
   "source": [
    "#### III. Merging Most Views with Most Tags"
   ]
  },
  {
   "cell_type": "code",
   "execution_count": 17,
   "metadata": {
    "collapsed": false
   },
   "outputs": [],
   "source": [
    "most_tags= pd.DataFrame(tag_count_series)\n",
    "most_views = pd.DataFrame(tag_views_series)\n",
    "\n",
    "merged_df = pd.merge(most_tags,most_views,\"left\",left_index=True,right_index=True)"
   ]
  },
  {
   "cell_type": "code",
   "execution_count": 18,
   "metadata": {
    "collapsed": false
   },
   "outputs": [
    {
     "data": {
      "text/html": [
       "<div>\n",
       "<style scoped>\n",
       "    .dataframe tbody tr th:only-of-type {\n",
       "        vertical-align: middle;\n",
       "    }\n",
       "\n",
       "    .dataframe tbody tr th {\n",
       "        vertical-align: top;\n",
       "    }\n",
       "\n",
       "    .dataframe thead th {\n",
       "        text-align: right;\n",
       "    }\n",
       "</style>\n",
       "<table border=\"1\" class=\"dataframe\">\n",
       "  <thead>\n",
       "    <tr style=\"text-align: right;\">\n",
       "      <th></th>\n",
       "      <th>0_x</th>\n",
       "      <th>0_y</th>\n",
       "    </tr>\n",
       "  </thead>\n",
       "  <tbody>\n",
       "    <tr>\n",
       "      <th>.net</th>\n",
       "      <td>1</td>\n",
       "      <td>438</td>\n",
       "    </tr>\n",
       "    <tr>\n",
       "      <th>3d-object-detection</th>\n",
       "      <td>1</td>\n",
       "      <td>7</td>\n",
       "    </tr>\n",
       "    <tr>\n",
       "      <th>3d-reconstruction</th>\n",
       "      <td>9</td>\n",
       "      <td>1129</td>\n",
       "    </tr>\n",
       "    <tr>\n",
       "      <th>ab-test</th>\n",
       "      <td>6</td>\n",
       "      <td>153</td>\n",
       "    </tr>\n",
       "    <tr>\n",
       "      <th>accuracy</th>\n",
       "      <td>89</td>\n",
       "      <td>15233</td>\n",
       "    </tr>\n",
       "    <tr>\n",
       "      <th>activation</th>\n",
       "      <td>1</td>\n",
       "      <td>15</td>\n",
       "    </tr>\n",
       "    <tr>\n",
       "      <th>activation-function</th>\n",
       "      <td>44</td>\n",
       "      <td>13121</td>\n",
       "    </tr>\n",
       "    <tr>\n",
       "      <th>active-learning</th>\n",
       "      <td>4</td>\n",
       "      <td>155</td>\n",
       "    </tr>\n",
       "    <tr>\n",
       "      <th>activity-recognition</th>\n",
       "      <td>5</td>\n",
       "      <td>126</td>\n",
       "    </tr>\n",
       "    <tr>\n",
       "      <th>actor-critic</th>\n",
       "      <td>21</td>\n",
       "      <td>1014</td>\n",
       "    </tr>\n",
       "  </tbody>\n",
       "</table>\n",
       "</div>"
      ],
      "text/plain": [
       "                      0_x    0_y\n",
       ".net                    1    438\n",
       "3d-object-detection     1      7\n",
       "3d-reconstruction       9   1129\n",
       "ab-test                 6    153\n",
       "accuracy               89  15233\n",
       "activation              1     15\n",
       "activation-function    44  13121\n",
       "active-learning         4    155\n",
       "activity-recognition    5    126\n",
       "actor-critic           21   1014"
      ]
     },
     "execution_count": 18,
     "metadata": {},
     "output_type": "execute_result"
    }
   ],
   "source": [
    "merged_df.head(10)"
   ]
  },
  {
   "cell_type": "markdown",
   "metadata": {},
   "source": [
    "### Finding Associations Between Tags"
   ]
  },
  {
   "cell_type": "markdown",
   "metadata": {},
   "source": [
    "Let us find a correlation of which tags appear togather most. For this purpose we will construct a co-occurence heatmap in the following steps:\n",
    "\n",
    "- Create a co-occurence table by using a nested for loop to count how many times pairs of tags appear in the same tags array/row\n",
    "- Create a table of correlations using the indeces of the top 10 most viewed results."
   ]
  },
  {
   "cell_type": "code",
   "execution_count": 24,
   "metadata": {
    "collapsed": false
   },
   "outputs": [
    {
     "name": "stdout",
     "output_type": "stream",
     "text": [
      "16\n"
     ]
    }
   ],
   "source": [
    "all_tags = list(most_tags.index)\n",
    "associations = pd.DataFrame(index=all_tags, columns=all_tags)\n",
    "associations.head(20)\n",
    "\n",
    "associations.fillna(0, inplace=True)\n",
    "\n",
    "# Pandas powerful alternative to this nested for loop is:\n",
    "# Alternative is associations.loc[row, row] += 1\n",
    "for row in questions[\"Tags\"]:\n",
    "    for tag in row:\n",
    "        associations.loc[row, tag] += 1\n",
    "\n",
    "\n",
    "#Testing a sample from our data and comparing it to the official answer yields a corrent result:\n",
    "locate_data = associations.loc[\"r\",\"statistics\"]\n",
    "print(locate_data)"
   ]
  },
  {
   "cell_type": "code",
   "execution_count": 25,
   "metadata": {
    "collapsed": false
   },
   "outputs": [
    {
     "data": {
      "text/html": [
       "<div>\n",
       "<style scoped>\n",
       "    .dataframe tbody tr th:only-of-type {\n",
       "        vertical-align: middle;\n",
       "    }\n",
       "\n",
       "    .dataframe tbody tr th {\n",
       "        vertical-align: top;\n",
       "    }\n",
       "\n",
       "    .dataframe thead th {\n",
       "        text-align: right;\n",
       "    }\n",
       "</style>\n",
       "<table border=\"1\" class=\"dataframe\">\n",
       "  <thead>\n",
       "    <tr style=\"text-align: right;\">\n",
       "      <th></th>\n",
       "      <th>.net</th>\n",
       "      <th>3d-object-detection</th>\n",
       "      <th>3d-reconstruction</th>\n",
       "      <th>ab-test</th>\n",
       "      <th>accuracy</th>\n",
       "      <th>activation</th>\n",
       "      <th>activation-function</th>\n",
       "      <th>active-learning</th>\n",
       "      <th>activity-recognition</th>\n",
       "      <th>actor-critic</th>\n",
       "      <th>...</th>\n",
       "      <th>weighted-data</th>\n",
       "      <th>weka</th>\n",
       "      <th>wikipedia</th>\n",
       "      <th>wolfram-language</th>\n",
       "      <th>word</th>\n",
       "      <th>word-embeddings</th>\n",
       "      <th>word2vec</th>\n",
       "      <th>xboost</th>\n",
       "      <th>xgboost</th>\n",
       "      <th>yolo</th>\n",
       "    </tr>\n",
       "  </thead>\n",
       "  <tbody>\n",
       "    <tr>\n",
       "      <th>.net</th>\n",
       "      <td>1</td>\n",
       "      <td>0</td>\n",
       "      <td>0</td>\n",
       "      <td>0</td>\n",
       "      <td>0</td>\n",
       "      <td>0</td>\n",
       "      <td>0</td>\n",
       "      <td>0</td>\n",
       "      <td>0</td>\n",
       "      <td>0</td>\n",
       "      <td>...</td>\n",
       "      <td>0</td>\n",
       "      <td>0</td>\n",
       "      <td>0</td>\n",
       "      <td>0</td>\n",
       "      <td>0</td>\n",
       "      <td>0</td>\n",
       "      <td>0</td>\n",
       "      <td>0</td>\n",
       "      <td>0</td>\n",
       "      <td>0</td>\n",
       "    </tr>\n",
       "    <tr>\n",
       "      <th>3d-object-detection</th>\n",
       "      <td>0</td>\n",
       "      <td>1</td>\n",
       "      <td>0</td>\n",
       "      <td>0</td>\n",
       "      <td>0</td>\n",
       "      <td>0</td>\n",
       "      <td>0</td>\n",
       "      <td>0</td>\n",
       "      <td>0</td>\n",
       "      <td>0</td>\n",
       "      <td>...</td>\n",
       "      <td>0</td>\n",
       "      <td>0</td>\n",
       "      <td>0</td>\n",
       "      <td>0</td>\n",
       "      <td>0</td>\n",
       "      <td>0</td>\n",
       "      <td>0</td>\n",
       "      <td>0</td>\n",
       "      <td>0</td>\n",
       "      <td>0</td>\n",
       "    </tr>\n",
       "    <tr>\n",
       "      <th>3d-reconstruction</th>\n",
       "      <td>0</td>\n",
       "      <td>0</td>\n",
       "      <td>9</td>\n",
       "      <td>0</td>\n",
       "      <td>0</td>\n",
       "      <td>0</td>\n",
       "      <td>0</td>\n",
       "      <td>0</td>\n",
       "      <td>0</td>\n",
       "      <td>0</td>\n",
       "      <td>...</td>\n",
       "      <td>0</td>\n",
       "      <td>0</td>\n",
       "      <td>0</td>\n",
       "      <td>0</td>\n",
       "      <td>0</td>\n",
       "      <td>0</td>\n",
       "      <td>0</td>\n",
       "      <td>0</td>\n",
       "      <td>0</td>\n",
       "      <td>0</td>\n",
       "    </tr>\n",
       "    <tr>\n",
       "      <th>ab-test</th>\n",
       "      <td>0</td>\n",
       "      <td>0</td>\n",
       "      <td>0</td>\n",
       "      <td>6</td>\n",
       "      <td>0</td>\n",
       "      <td>0</td>\n",
       "      <td>0</td>\n",
       "      <td>0</td>\n",
       "      <td>0</td>\n",
       "      <td>0</td>\n",
       "      <td>...</td>\n",
       "      <td>0</td>\n",
       "      <td>0</td>\n",
       "      <td>0</td>\n",
       "      <td>0</td>\n",
       "      <td>0</td>\n",
       "      <td>0</td>\n",
       "      <td>0</td>\n",
       "      <td>0</td>\n",
       "      <td>0</td>\n",
       "      <td>0</td>\n",
       "    </tr>\n",
       "    <tr>\n",
       "      <th>accuracy</th>\n",
       "      <td>0</td>\n",
       "      <td>0</td>\n",
       "      <td>0</td>\n",
       "      <td>0</td>\n",
       "      <td>89</td>\n",
       "      <td>0</td>\n",
       "      <td>0</td>\n",
       "      <td>0</td>\n",
       "      <td>0</td>\n",
       "      <td>0</td>\n",
       "      <td>...</td>\n",
       "      <td>0</td>\n",
       "      <td>0</td>\n",
       "      <td>0</td>\n",
       "      <td>0</td>\n",
       "      <td>0</td>\n",
       "      <td>0</td>\n",
       "      <td>1</td>\n",
       "      <td>0</td>\n",
       "      <td>3</td>\n",
       "      <td>0</td>\n",
       "    </tr>\n",
       "    <tr>\n",
       "      <th>activation</th>\n",
       "      <td>0</td>\n",
       "      <td>0</td>\n",
       "      <td>0</td>\n",
       "      <td>0</td>\n",
       "      <td>0</td>\n",
       "      <td>1</td>\n",
       "      <td>0</td>\n",
       "      <td>0</td>\n",
       "      <td>0</td>\n",
       "      <td>0</td>\n",
       "      <td>...</td>\n",
       "      <td>0</td>\n",
       "      <td>0</td>\n",
       "      <td>0</td>\n",
       "      <td>0</td>\n",
       "      <td>0</td>\n",
       "      <td>0</td>\n",
       "      <td>0</td>\n",
       "      <td>0</td>\n",
       "      <td>0</td>\n",
       "      <td>0</td>\n",
       "    </tr>\n",
       "    <tr>\n",
       "      <th>activation-function</th>\n",
       "      <td>0</td>\n",
       "      <td>0</td>\n",
       "      <td>0</td>\n",
       "      <td>0</td>\n",
       "      <td>0</td>\n",
       "      <td>0</td>\n",
       "      <td>44</td>\n",
       "      <td>0</td>\n",
       "      <td>0</td>\n",
       "      <td>0</td>\n",
       "      <td>...</td>\n",
       "      <td>1</td>\n",
       "      <td>0</td>\n",
       "      <td>0</td>\n",
       "      <td>0</td>\n",
       "      <td>0</td>\n",
       "      <td>0</td>\n",
       "      <td>1</td>\n",
       "      <td>0</td>\n",
       "      <td>0</td>\n",
       "      <td>0</td>\n",
       "    </tr>\n",
       "    <tr>\n",
       "      <th>active-learning</th>\n",
       "      <td>0</td>\n",
       "      <td>0</td>\n",
       "      <td>0</td>\n",
       "      <td>0</td>\n",
       "      <td>0</td>\n",
       "      <td>0</td>\n",
       "      <td>0</td>\n",
       "      <td>4</td>\n",
       "      <td>0</td>\n",
       "      <td>0</td>\n",
       "      <td>...</td>\n",
       "      <td>0</td>\n",
       "      <td>0</td>\n",
       "      <td>0</td>\n",
       "      <td>0</td>\n",
       "      <td>0</td>\n",
       "      <td>0</td>\n",
       "      <td>0</td>\n",
       "      <td>0</td>\n",
       "      <td>0</td>\n",
       "      <td>0</td>\n",
       "    </tr>\n",
       "    <tr>\n",
       "      <th>activity-recognition</th>\n",
       "      <td>0</td>\n",
       "      <td>0</td>\n",
       "      <td>0</td>\n",
       "      <td>0</td>\n",
       "      <td>0</td>\n",
       "      <td>0</td>\n",
       "      <td>0</td>\n",
       "      <td>0</td>\n",
       "      <td>5</td>\n",
       "      <td>0</td>\n",
       "      <td>...</td>\n",
       "      <td>0</td>\n",
       "      <td>0</td>\n",
       "      <td>0</td>\n",
       "      <td>0</td>\n",
       "      <td>0</td>\n",
       "      <td>0</td>\n",
       "      <td>0</td>\n",
       "      <td>0</td>\n",
       "      <td>0</td>\n",
       "      <td>0</td>\n",
       "    </tr>\n",
       "    <tr>\n",
       "      <th>actor-critic</th>\n",
       "      <td>0</td>\n",
       "      <td>0</td>\n",
       "      <td>0</td>\n",
       "      <td>0</td>\n",
       "      <td>0</td>\n",
       "      <td>0</td>\n",
       "      <td>0</td>\n",
       "      <td>0</td>\n",
       "      <td>0</td>\n",
       "      <td>21</td>\n",
       "      <td>...</td>\n",
       "      <td>0</td>\n",
       "      <td>0</td>\n",
       "      <td>0</td>\n",
       "      <td>0</td>\n",
       "      <td>0</td>\n",
       "      <td>0</td>\n",
       "      <td>0</td>\n",
       "      <td>0</td>\n",
       "      <td>0</td>\n",
       "      <td>0</td>\n",
       "    </tr>\n",
       "    <tr>\n",
       "      <th>adaboost</th>\n",
       "      <td>0</td>\n",
       "      <td>0</td>\n",
       "      <td>0</td>\n",
       "      <td>0</td>\n",
       "      <td>0</td>\n",
       "      <td>0</td>\n",
       "      <td>0</td>\n",
       "      <td>0</td>\n",
       "      <td>0</td>\n",
       "      <td>0</td>\n",
       "      <td>...</td>\n",
       "      <td>0</td>\n",
       "      <td>0</td>\n",
       "      <td>0</td>\n",
       "      <td>0</td>\n",
       "      <td>0</td>\n",
       "      <td>0</td>\n",
       "      <td>0</td>\n",
       "      <td>0</td>\n",
       "      <td>0</td>\n",
       "      <td>0</td>\n",
       "    </tr>\n",
       "    <tr>\n",
       "      <th>aggregation</th>\n",
       "      <td>0</td>\n",
       "      <td>0</td>\n",
       "      <td>0</td>\n",
       "      <td>0</td>\n",
       "      <td>0</td>\n",
       "      <td>0</td>\n",
       "      <td>0</td>\n",
       "      <td>0</td>\n",
       "      <td>0</td>\n",
       "      <td>0</td>\n",
       "      <td>...</td>\n",
       "      <td>0</td>\n",
       "      <td>0</td>\n",
       "      <td>0</td>\n",
       "      <td>0</td>\n",
       "      <td>0</td>\n",
       "      <td>1</td>\n",
       "      <td>0</td>\n",
       "      <td>0</td>\n",
       "      <td>0</td>\n",
       "      <td>0</td>\n",
       "    </tr>\n",
       "    <tr>\n",
       "      <th>ai</th>\n",
       "      <td>0</td>\n",
       "      <td>0</td>\n",
       "      <td>0</td>\n",
       "      <td>0</td>\n",
       "      <td>0</td>\n",
       "      <td>0</td>\n",
       "      <td>0</td>\n",
       "      <td>0</td>\n",
       "      <td>0</td>\n",
       "      <td>6</td>\n",
       "      <td>...</td>\n",
       "      <td>0</td>\n",
       "      <td>0</td>\n",
       "      <td>0</td>\n",
       "      <td>0</td>\n",
       "      <td>0</td>\n",
       "      <td>0</td>\n",
       "      <td>0</td>\n",
       "      <td>0</td>\n",
       "      <td>0</td>\n",
       "      <td>0</td>\n",
       "    </tr>\n",
       "    <tr>\n",
       "      <th>alex-net</th>\n",
       "      <td>0</td>\n",
       "      <td>0</td>\n",
       "      <td>0</td>\n",
       "      <td>0</td>\n",
       "      <td>0</td>\n",
       "      <td>0</td>\n",
       "      <td>0</td>\n",
       "      <td>0</td>\n",
       "      <td>0</td>\n",
       "      <td>0</td>\n",
       "      <td>...</td>\n",
       "      <td>0</td>\n",
       "      <td>0</td>\n",
       "      <td>0</td>\n",
       "      <td>0</td>\n",
       "      <td>0</td>\n",
       "      <td>0</td>\n",
       "      <td>0</td>\n",
       "      <td>0</td>\n",
       "      <td>0</td>\n",
       "      <td>0</td>\n",
       "    </tr>\n",
       "    <tr>\n",
       "      <th>algorithms</th>\n",
       "      <td>0</td>\n",
       "      <td>0</td>\n",
       "      <td>0</td>\n",
       "      <td>0</td>\n",
       "      <td>0</td>\n",
       "      <td>0</td>\n",
       "      <td>0</td>\n",
       "      <td>0</td>\n",
       "      <td>0</td>\n",
       "      <td>0</td>\n",
       "      <td>...</td>\n",
       "      <td>0</td>\n",
       "      <td>1</td>\n",
       "      <td>0</td>\n",
       "      <td>0</td>\n",
       "      <td>0</td>\n",
       "      <td>0</td>\n",
       "      <td>0</td>\n",
       "      <td>0</td>\n",
       "      <td>0</td>\n",
       "      <td>0</td>\n",
       "    </tr>\n",
       "    <tr>\n",
       "      <th>allennlp</th>\n",
       "      <td>0</td>\n",
       "      <td>0</td>\n",
       "      <td>0</td>\n",
       "      <td>0</td>\n",
       "      <td>0</td>\n",
       "      <td>0</td>\n",
       "      <td>0</td>\n",
       "      <td>0</td>\n",
       "      <td>0</td>\n",
       "      <td>0</td>\n",
       "      <td>...</td>\n",
       "      <td>0</td>\n",
       "      <td>0</td>\n",
       "      <td>0</td>\n",
       "      <td>0</td>\n",
       "      <td>0</td>\n",
       "      <td>0</td>\n",
       "      <td>0</td>\n",
       "      <td>0</td>\n",
       "      <td>0</td>\n",
       "      <td>0</td>\n",
       "    </tr>\n",
       "    <tr>\n",
       "      <th>amazon-ml</th>\n",
       "      <td>0</td>\n",
       "      <td>0</td>\n",
       "      <td>0</td>\n",
       "      <td>0</td>\n",
       "      <td>0</td>\n",
       "      <td>0</td>\n",
       "      <td>0</td>\n",
       "      <td>0</td>\n",
       "      <td>0</td>\n",
       "      <td>0</td>\n",
       "      <td>...</td>\n",
       "      <td>0</td>\n",
       "      <td>0</td>\n",
       "      <td>0</td>\n",
       "      <td>0</td>\n",
       "      <td>0</td>\n",
       "      <td>0</td>\n",
       "      <td>0</td>\n",
       "      <td>0</td>\n",
       "      <td>0</td>\n",
       "      <td>0</td>\n",
       "    </tr>\n",
       "    <tr>\n",
       "      <th>anaconda</th>\n",
       "      <td>0</td>\n",
       "      <td>0</td>\n",
       "      <td>0</td>\n",
       "      <td>0</td>\n",
       "      <td>0</td>\n",
       "      <td>1</td>\n",
       "      <td>0</td>\n",
       "      <td>0</td>\n",
       "      <td>0</td>\n",
       "      <td>0</td>\n",
       "      <td>...</td>\n",
       "      <td>0</td>\n",
       "      <td>0</td>\n",
       "      <td>0</td>\n",
       "      <td>0</td>\n",
       "      <td>0</td>\n",
       "      <td>0</td>\n",
       "      <td>0</td>\n",
       "      <td>0</td>\n",
       "      <td>0</td>\n",
       "      <td>0</td>\n",
       "    </tr>\n",
       "    <tr>\n",
       "      <th>ann</th>\n",
       "      <td>0</td>\n",
       "      <td>0</td>\n",
       "      <td>0</td>\n",
       "      <td>0</td>\n",
       "      <td>0</td>\n",
       "      <td>0</td>\n",
       "      <td>0</td>\n",
       "      <td>0</td>\n",
       "      <td>0</td>\n",
       "      <td>0</td>\n",
       "      <td>...</td>\n",
       "      <td>0</td>\n",
       "      <td>0</td>\n",
       "      <td>0</td>\n",
       "      <td>0</td>\n",
       "      <td>0</td>\n",
       "      <td>0</td>\n",
       "      <td>0</td>\n",
       "      <td>0</td>\n",
       "      <td>0</td>\n",
       "      <td>0</td>\n",
       "    </tr>\n",
       "    <tr>\n",
       "      <th>annotation</th>\n",
       "      <td>0</td>\n",
       "      <td>0</td>\n",
       "      <td>0</td>\n",
       "      <td>0</td>\n",
       "      <td>0</td>\n",
       "      <td>0</td>\n",
       "      <td>0</td>\n",
       "      <td>0</td>\n",
       "      <td>0</td>\n",
       "      <td>0</td>\n",
       "      <td>...</td>\n",
       "      <td>0</td>\n",
       "      <td>0</td>\n",
       "      <td>0</td>\n",
       "      <td>0</td>\n",
       "      <td>0</td>\n",
       "      <td>0</td>\n",
       "      <td>0</td>\n",
       "      <td>0</td>\n",
       "      <td>0</td>\n",
       "      <td>0</td>\n",
       "    </tr>\n",
       "  </tbody>\n",
       "</table>\n",
       "<p>20 rows × 526 columns</p>\n",
       "</div>"
      ],
      "text/plain": [
       "                      .net  3d-object-detection  3d-reconstruction  ab-test  \\\n",
       ".net                     1                    0                  0        0   \n",
       "3d-object-detection      0                    1                  0        0   \n",
       "3d-reconstruction        0                    0                  9        0   \n",
       "ab-test                  0                    0                  0        6   \n",
       "accuracy                 0                    0                  0        0   \n",
       "activation               0                    0                  0        0   \n",
       "activation-function      0                    0                  0        0   \n",
       "active-learning          0                    0                  0        0   \n",
       "activity-recognition     0                    0                  0        0   \n",
       "actor-critic             0                    0                  0        0   \n",
       "adaboost                 0                    0                  0        0   \n",
       "aggregation              0                    0                  0        0   \n",
       "ai                       0                    0                  0        0   \n",
       "alex-net                 0                    0                  0        0   \n",
       "algorithms               0                    0                  0        0   \n",
       "allennlp                 0                    0                  0        0   \n",
       "amazon-ml                0                    0                  0        0   \n",
       "anaconda                 0                    0                  0        0   \n",
       "ann                      0                    0                  0        0   \n",
       "annotation               0                    0                  0        0   \n",
       "\n",
       "                      accuracy  activation  activation-function  \\\n",
       ".net                         0           0                    0   \n",
       "3d-object-detection          0           0                    0   \n",
       "3d-reconstruction            0           0                    0   \n",
       "ab-test                      0           0                    0   \n",
       "accuracy                    89           0                    0   \n",
       "activation                   0           1                    0   \n",
       "activation-function          0           0                   44   \n",
       "active-learning              0           0                    0   \n",
       "activity-recognition         0           0                    0   \n",
       "actor-critic                 0           0                    0   \n",
       "adaboost                     0           0                    0   \n",
       "aggregation                  0           0                    0   \n",
       "ai                           0           0                    0   \n",
       "alex-net                     0           0                    0   \n",
       "algorithms                   0           0                    0   \n",
       "allennlp                     0           0                    0   \n",
       "amazon-ml                    0           0                    0   \n",
       "anaconda                     0           1                    0   \n",
       "ann                          0           0                    0   \n",
       "annotation                   0           0                    0   \n",
       "\n",
       "                      active-learning  activity-recognition  actor-critic  \\\n",
       ".net                                0                     0             0   \n",
       "3d-object-detection                 0                     0             0   \n",
       "3d-reconstruction                   0                     0             0   \n",
       "ab-test                             0                     0             0   \n",
       "accuracy                            0                     0             0   \n",
       "activation                          0                     0             0   \n",
       "activation-function                 0                     0             0   \n",
       "active-learning                     4                     0             0   \n",
       "activity-recognition                0                     5             0   \n",
       "actor-critic                        0                     0            21   \n",
       "adaboost                            0                     0             0   \n",
       "aggregation                         0                     0             0   \n",
       "ai                                  0                     0             6   \n",
       "alex-net                            0                     0             0   \n",
       "algorithms                          0                     0             0   \n",
       "allennlp                            0                     0             0   \n",
       "amazon-ml                           0                     0             0   \n",
       "anaconda                            0                     0             0   \n",
       "ann                                 0                     0             0   \n",
       "annotation                          0                     0             0   \n",
       "\n",
       "                      ...   weighted-data  weka  wikipedia  wolfram-language  \\\n",
       ".net                  ...               0     0          0                 0   \n",
       "3d-object-detection   ...               0     0          0                 0   \n",
       "3d-reconstruction     ...               0     0          0                 0   \n",
       "ab-test               ...               0     0          0                 0   \n",
       "accuracy              ...               0     0          0                 0   \n",
       "activation            ...               0     0          0                 0   \n",
       "activation-function   ...               1     0          0                 0   \n",
       "active-learning       ...               0     0          0                 0   \n",
       "activity-recognition  ...               0     0          0                 0   \n",
       "actor-critic          ...               0     0          0                 0   \n",
       "adaboost              ...               0     0          0                 0   \n",
       "aggregation           ...               0     0          0                 0   \n",
       "ai                    ...               0     0          0                 0   \n",
       "alex-net              ...               0     0          0                 0   \n",
       "algorithms            ...               0     1          0                 0   \n",
       "allennlp              ...               0     0          0                 0   \n",
       "amazon-ml             ...               0     0          0                 0   \n",
       "anaconda              ...               0     0          0                 0   \n",
       "ann                   ...               0     0          0                 0   \n",
       "annotation            ...               0     0          0                 0   \n",
       "\n",
       "                      word  word-embeddings  word2vec  xboost  xgboost  yolo  \n",
       ".net                     0                0         0       0        0     0  \n",
       "3d-object-detection      0                0         0       0        0     0  \n",
       "3d-reconstruction        0                0         0       0        0     0  \n",
       "ab-test                  0                0         0       0        0     0  \n",
       "accuracy                 0                0         1       0        3     0  \n",
       "activation               0                0         0       0        0     0  \n",
       "activation-function      0                0         1       0        0     0  \n",
       "active-learning          0                0         0       0        0     0  \n",
       "activity-recognition     0                0         0       0        0     0  \n",
       "actor-critic             0                0         0       0        0     0  \n",
       "adaboost                 0                0         0       0        0     0  \n",
       "aggregation              0                1         0       0        0     0  \n",
       "ai                       0                0         0       0        0     0  \n",
       "alex-net                 0                0         0       0        0     0  \n",
       "algorithms               0                0         0       0        0     0  \n",
       "allennlp                 0                0         0       0        0     0  \n",
       "amazon-ml                0                0         0       0        0     0  \n",
       "anaconda                 0                0         0       0        0     0  \n",
       "ann                      0                0         0       0        0     0  \n",
       "annotation               0                0         0       0        0     0  \n",
       "\n",
       "[20 rows x 526 columns]"
      ]
     },
     "execution_count": 25,
     "metadata": {},
     "output_type": "execute_result"
    }
   ],
   "source": [
    "associations.head(20)"
   ]
  },
  {
   "cell_type": "code",
   "execution_count": 26,
   "metadata": {
    "collapsed": false
   },
   "outputs": [
    {
     "ename": "NameError",
     "evalue": "name 'relations_most_used' is not defined",
     "output_type": "error",
     "traceback": [
      "\u001b[1;31m\u001b[0m",
      "\u001b[1;31mNameError\u001b[0mTraceback (most recent call last)",
      "\u001b[1;32m<ipython-input-26-6b6264debab6>\u001b[0m in \u001b[0;36m<module>\u001b[1;34m()\u001b[0m\n\u001b[0;32m      3\u001b[0m \u001b[1;33m\u001b[0m\u001b[0m\n\u001b[0;32m      4\u001b[0m \u001b[0mtags_relationship\u001b[0m \u001b[1;33m=\u001b[0m \u001b[0massociations\u001b[0m\u001b[1;33m.\u001b[0m\u001b[0mloc\u001b[0m\u001b[1;33m[\u001b[0m\u001b[0mplot_data_top_10\u001b[0m\u001b[1;33m.\u001b[0m\u001b[0mindex\u001b[0m\u001b[1;33m,\u001b[0m \u001b[0mplot_data_top_10\u001b[0m\u001b[1;33m.\u001b[0m\u001b[0mindex\u001b[0m\u001b[1;33m]\u001b[0m\u001b[1;33m\u001b[0m\u001b[0m\n\u001b[1;32m----> 5\u001b[1;33m \u001b[0mrelations_most_used\u001b[0m\u001b[1;33m.\u001b[0m\u001b[0mhead\u001b[0m\u001b[1;33m(\u001b[0m\u001b[1;36m20\u001b[0m\u001b[1;33m)\u001b[0m\u001b[1;33m\u001b[0m\u001b[0m\n\u001b[0m",
      "\u001b[1;31mNameError\u001b[0m: name 'relations_most_used' is not defined"
     ]
    }
   ],
   "source": [
    "# The dataframe above is too large and contains a lot of empty data points.\n",
    "# So we will use the tags of the most popular columns to extract a meanignful dataframe of results:\n",
    "\n",
    "tags_relationship = associations.loc[plot_data_top_10.index, plot_data_top_10.index]\n",
    "relations_most_used.head(20)"
   ]
  },
  {
   "cell_type": "code",
   "execution_count": 27,
   "metadata": {
    "collapsed": false
   },
   "outputs": [
    {
     "data": {
      "text/plain": [
       "<matplotlib.axes._subplots.AxesSubplot at 0x7f4ef06a3898>"
      ]
     },
     "execution_count": 27,
     "metadata": {},
     "output_type": "execute_result"
    },
    {
     "data": {
      "image/png": "[encoded data removed]",
      "text/plain": [
       "<matplotlib.figure.Figure at 0x7f4ef0891ac8>"
      ]
     },
     "metadata": {},
     "output_type": "display_data"
    }
   ],
   "source": [
    "plt.figure(figsize=(16,10))\n",
    "sns.heatmap(tags_relationship)"
   ]
  },
  {
   "cell_type": "markdown",
   "metadata": {
    "collapsed": true
   },
   "source": [
    "When analyzing the heatmap we can see that Python/deep-learning/neural network/ Keras/ Classification and scikit-learn are clustered together the most, and appear to show up most in the same tags."
   ]
  },
  {
   "cell_type": "markdown",
   "metadata": {
    "collapsed": true
   },
   "source": [
    "### Is Deep Learning Just a Fad?"
   ]
  },
  {
   "cell_type": "markdown",
   "metadata": {
    "collapsed": true
   },
   "source": [
    "In this section we will be pondering the question: \"Is deep learning just a fad?\". TO answer this question we will use the \"al_questions.csv\" dataset which contains the same Tags we have used so far but numbered by CreationDate.\n",
    "\n",
    "Steps taken:\n",
    "- Crete a new dataframe copy with an extra column that contains a value of 1 if the Tags are related to a deep learning question.\n",
    "- Drop all rows with 0 in them\n",
    "- Create a bar chart to visualize the results by year.\n"
   ]
  },
  {
   "cell_type": "code",
   "execution_count": 28,
   "metadata": {
    "collapsed": false
   },
   "outputs": [],
   "source": [
    "# Import or dataset:\n",
    "all_quest = pd.read_csv(\"all_questions.csv\")"
   ]
  },
  {
   "cell_type": "code",
   "execution_count": 29,
   "metadata": {
    "collapsed": false
   },
   "outputs": [
    {
     "data": {
      "text/html": [
       "<div>\n",
       "<style scoped>\n",
       "    .dataframe tbody tr th:only-of-type {\n",
       "        vertical-align: middle;\n",
       "    }\n",
       "\n",
       "    .dataframe tbody tr th {\n",
       "        vertical-align: top;\n",
       "    }\n",
       "\n",
       "    .dataframe thead th {\n",
       "        text-align: right;\n",
       "    }\n",
       "</style>\n",
       "<table border=\"1\" class=\"dataframe\">\n",
       "  <thead>\n",
       "    <tr style=\"text-align: right;\">\n",
       "      <th></th>\n",
       "      <th>Id</th>\n",
       "      <th>CreationDate</th>\n",
       "      <th>Tags</th>\n",
       "    </tr>\n",
       "  </thead>\n",
       "  <tbody>\n",
       "    <tr>\n",
       "      <th>0</th>\n",
       "      <td>45416</td>\n",
       "      <td>2019-02-12 00:36:29</td>\n",
       "      <td>&lt;python&gt;&lt;keras&gt;&lt;tensorflow&gt;&lt;cnn&gt;&lt;probability&gt;</td>\n",
       "    </tr>\n",
       "    <tr>\n",
       "      <th>1</th>\n",
       "      <td>45418</td>\n",
       "      <td>2019-02-12 00:50:39</td>\n",
       "      <td>&lt;neural-network&gt;</td>\n",
       "    </tr>\n",
       "    <tr>\n",
       "      <th>2</th>\n",
       "      <td>45422</td>\n",
       "      <td>2019-02-12 04:40:51</td>\n",
       "      <td>&lt;python&gt;&lt;ibm-watson&gt;&lt;chatbot&gt;</td>\n",
       "    </tr>\n",
       "    <tr>\n",
       "      <th>3</th>\n",
       "      <td>45426</td>\n",
       "      <td>2019-02-12 04:51:49</td>\n",
       "      <td>&lt;keras&gt;</td>\n",
       "    </tr>\n",
       "    <tr>\n",
       "      <th>4</th>\n",
       "      <td>45427</td>\n",
       "      <td>2019-02-12 05:08:24</td>\n",
       "      <td>&lt;r&gt;&lt;predictive-modeling&gt;&lt;machine-learning-mode...</td>\n",
       "    </tr>\n",
       "  </tbody>\n",
       "</table>\n",
       "</div>"
      ],
      "text/plain": [
       "      Id         CreationDate  \\\n",
       "0  45416  2019-02-12 00:36:29   \n",
       "1  45418  2019-02-12 00:50:39   \n",
       "2  45422  2019-02-12 04:40:51   \n",
       "3  45426  2019-02-12 04:51:49   \n",
       "4  45427  2019-02-12 05:08:24   \n",
       "\n",
       "                                                Tags  \n",
       "0      <python><keras><tensorflow><cnn><probability>  \n",
       "1                                   <neural-network>  \n",
       "2                      <python><ibm-watson><chatbot>  \n",
       "3                                            <keras>  \n",
       "4  <r><predictive-modeling><machine-learning-mode...  "
      ]
     },
     "execution_count": 29,
     "metadata": {},
     "output_type": "execute_result"
    }
   ],
   "source": [
    "#Copy the dataframe\n",
    "all_quest.shape\n",
    "deep_df = all_quest.copy()\n",
    "\n",
    "#Explore the top 5 rows:\n",
    "deep_df.head()"
   ]
  },
  {
   "cell_type": "code",
   "execution_count": 30,
   "metadata": {
    "collapsed": false
   },
   "outputs": [
    {
     "data": {
      "text/html": [
       "<div>\n",
       "<style scoped>\n",
       "    .dataframe tbody tr th:only-of-type {\n",
       "        vertical-align: middle;\n",
       "    }\n",
       "\n",
       "    .dataframe tbody tr th {\n",
       "        vertical-align: top;\n",
       "    }\n",
       "\n",
       "    .dataframe thead th {\n",
       "        text-align: right;\n",
       "    }\n",
       "</style>\n",
       "<table border=\"1\" class=\"dataframe\">\n",
       "  <thead>\n",
       "    <tr style=\"text-align: right;\">\n",
       "      <th></th>\n",
       "      <th>Id</th>\n",
       "      <th>CreationDate</th>\n",
       "      <th>Tags</th>\n",
       "    </tr>\n",
       "  </thead>\n",
       "  <tbody>\n",
       "    <tr>\n",
       "      <th>0</th>\n",
       "      <td>45416</td>\n",
       "      <td>2019-02-12 00:36:29</td>\n",
       "      <td>python,keras,tensorflow,cnn,probability</td>\n",
       "    </tr>\n",
       "    <tr>\n",
       "      <th>1</th>\n",
       "      <td>45418</td>\n",
       "      <td>2019-02-12 00:50:39</td>\n",
       "      <td>neural-network</td>\n",
       "    </tr>\n",
       "    <tr>\n",
       "      <th>2</th>\n",
       "      <td>45422</td>\n",
       "      <td>2019-02-12 04:40:51</td>\n",
       "      <td>python,ibm-watson,chatbot</td>\n",
       "    </tr>\n",
       "    <tr>\n",
       "      <th>3</th>\n",
       "      <td>45426</td>\n",
       "      <td>2019-02-12 04:51:49</td>\n",
       "      <td>keras</td>\n",
       "    </tr>\n",
       "    <tr>\n",
       "      <th>4</th>\n",
       "      <td>45427</td>\n",
       "      <td>2019-02-12 05:08:24</td>\n",
       "      <td>r,predictive-modeling,machine-learning-model,s...</td>\n",
       "    </tr>\n",
       "  </tbody>\n",
       "</table>\n",
       "</div>"
      ],
      "text/plain": [
       "      Id         CreationDate  \\\n",
       "0  45416  2019-02-12 00:36:29   \n",
       "1  45418  2019-02-12 00:50:39   \n",
       "2  45422  2019-02-12 04:40:51   \n",
       "3  45426  2019-02-12 04:51:49   \n",
       "4  45427  2019-02-12 05:08:24   \n",
       "\n",
       "                                                Tags  \n",
       "0            python,keras,tensorflow,cnn,probability  \n",
       "1                                     neural-network  \n",
       "2                          python,ibm-watson,chatbot  \n",
       "3                                              keras  \n",
       "4  r,predictive-modeling,machine-learning-model,s...  "
      ]
     },
     "execution_count": 30,
     "metadata": {},
     "output_type": "execute_result"
    }
   ],
   "source": [
    "# Clean the dataframe tags:\n",
    "deep_df[\"Tags\"] = deep_df[\"Tags\"].str.replace(\"><\",\",\").str.replace(\"<\",\"\").str.replace(\">\",\"\")\n",
    "# Check if the tags were cleaned properly:\n",
    "deep_df.head()"
   ]
  },
  {
   "cell_type": "code",
   "execution_count": 31,
   "metadata": {
    "collapsed": false
   },
   "outputs": [
    {
     "data": {
      "text/html": [
       "<div>\n",
       "<style scoped>\n",
       "    .dataframe tbody tr th:only-of-type {\n",
       "        vertical-align: middle;\n",
       "    }\n",
       "\n",
       "    .dataframe tbody tr th {\n",
       "        vertical-align: top;\n",
       "    }\n",
       "\n",
       "    .dataframe thead th {\n",
       "        text-align: right;\n",
       "    }\n",
       "</style>\n",
       "<table border=\"1\" class=\"dataframe\">\n",
       "  <thead>\n",
       "    <tr style=\"text-align: right;\">\n",
       "      <th></th>\n",
       "      <th>Id</th>\n",
       "      <th>CreationDate</th>\n",
       "      <th>Tags</th>\n",
       "    </tr>\n",
       "  </thead>\n",
       "  <tbody>\n",
       "    <tr>\n",
       "      <th>0</th>\n",
       "      <td>45416</td>\n",
       "      <td>2019-02-12 00:36:29</td>\n",
       "      <td>[python, keras, tensorflow, cnn, probability]</td>\n",
       "    </tr>\n",
       "    <tr>\n",
       "      <th>1</th>\n",
       "      <td>45418</td>\n",
       "      <td>2019-02-12 00:50:39</td>\n",
       "      <td>[neural-network]</td>\n",
       "    </tr>\n",
       "    <tr>\n",
       "      <th>2</th>\n",
       "      <td>45422</td>\n",
       "      <td>2019-02-12 04:40:51</td>\n",
       "      <td>[python, ibm-watson, chatbot]</td>\n",
       "    </tr>\n",
       "    <tr>\n",
       "      <th>3</th>\n",
       "      <td>45426</td>\n",
       "      <td>2019-02-12 04:51:49</td>\n",
       "      <td>[keras]</td>\n",
       "    </tr>\n",
       "    <tr>\n",
       "      <th>4</th>\n",
       "      <td>45427</td>\n",
       "      <td>2019-02-12 05:08:24</td>\n",
       "      <td>[r, predictive-modeling, machine-learning-mode...</td>\n",
       "    </tr>\n",
       "  </tbody>\n",
       "</table>\n",
       "</div>"
      ],
      "text/plain": [
       "      Id         CreationDate  \\\n",
       "0  45416  2019-02-12 00:36:29   \n",
       "1  45418  2019-02-12 00:50:39   \n",
       "2  45422  2019-02-12 04:40:51   \n",
       "3  45426  2019-02-12 04:51:49   \n",
       "4  45427  2019-02-12 05:08:24   \n",
       "\n",
       "                                                Tags  \n",
       "0      [python, keras, tensorflow, cnn, probability]  \n",
       "1                                   [neural-network]  \n",
       "2                      [python, ibm-watson, chatbot]  \n",
       "3                                            [keras]  \n",
       "4  [r, predictive-modeling, machine-learning-mode...  "
      ]
     },
     "execution_count": 31,
     "metadata": {},
     "output_type": "execute_result"
    }
   ],
   "source": [
    "# Turn the rows into lists that we can iterate over later\n",
    "deep_df[\"Tags\"]=deep_df[\"Tags\"].str.split(\",\")\n",
    "deep_df.head()"
   ]
  },
  {
   "cell_type": "code",
   "execution_count": 32,
   "metadata": {
    "collapsed": true
   },
   "outputs": [],
   "source": [
    "# The kewrods that we will use to associate with deep learning are \"machine-learning\",\"python\",\"deep-learning\",\"neural-network\",\"keras\",\"tensorflow\",\"cnn\"\n",
    "\n",
    "keywords = [\"machine-learning\",\"python\",\"deep-learning\",\"neural-network\",\"keras\",\"tensorflow\",\"cnn\"]\n",
    "def replace_keywords(row):\n",
    "    for tag in row[\"Tags\"]:\n",
    "        #print(tag)\n",
    "        if tag in keywords:\n",
    "            #print(tag)\n",
    "            return 1\n",
    "        else:\n",
    "            return 0"
   ]
  },
  {
   "cell_type": "markdown",
   "metadata": {},
   "source": [
    "We then apply our custom function to the dataframe and use boolean indexing to extract a dataframe that contains tags related to deep learning only."
   ]
  },
  {
   "cell_type": "code",
   "execution_count": 33,
   "metadata": {
    "collapsed": false
   },
   "outputs": [],
   "source": [
    "deep_df[\"deep_learning_questions\"] = deep_df.apply(replace_keywords, axis =1)"
   ]
  },
  {
   "cell_type": "code",
   "execution_count": 34,
   "metadata": {
    "collapsed": false
   },
   "outputs": [
    {
     "data": {
      "text/html": [
       "<div>\n",
       "<style scoped>\n",
       "    .dataframe tbody tr th:only-of-type {\n",
       "        vertical-align: middle;\n",
       "    }\n",
       "\n",
       "    .dataframe tbody tr th {\n",
       "        vertical-align: top;\n",
       "    }\n",
       "\n",
       "    .dataframe thead th {\n",
       "        text-align: right;\n",
       "    }\n",
       "</style>\n",
       "<table border=\"1\" class=\"dataframe\">\n",
       "  <thead>\n",
       "    <tr style=\"text-align: right;\">\n",
       "      <th></th>\n",
       "      <th>Id</th>\n",
       "      <th>CreationDate</th>\n",
       "      <th>Tags</th>\n",
       "      <th>deep_learning_questions</th>\n",
       "    </tr>\n",
       "  </thead>\n",
       "  <tbody>\n",
       "    <tr>\n",
       "      <th>0</th>\n",
       "      <td>45416</td>\n",
       "      <td>2019-02-12 00:36:29</td>\n",
       "      <td>[python, keras, tensorflow, cnn, probability]</td>\n",
       "      <td>1</td>\n",
       "    </tr>\n",
       "    <tr>\n",
       "      <th>1</th>\n",
       "      <td>45418</td>\n",
       "      <td>2019-02-12 00:50:39</td>\n",
       "      <td>[neural-network]</td>\n",
       "      <td>1</td>\n",
       "    </tr>\n",
       "    <tr>\n",
       "      <th>2</th>\n",
       "      <td>45422</td>\n",
       "      <td>2019-02-12 04:40:51</td>\n",
       "      <td>[python, ibm-watson, chatbot]</td>\n",
       "      <td>1</td>\n",
       "    </tr>\n",
       "    <tr>\n",
       "      <th>3</th>\n",
       "      <td>45426</td>\n",
       "      <td>2019-02-12 04:51:49</td>\n",
       "      <td>[keras]</td>\n",
       "      <td>1</td>\n",
       "    </tr>\n",
       "    <tr>\n",
       "      <th>5</th>\n",
       "      <td>45428</td>\n",
       "      <td>2019-02-12 05:43:18</td>\n",
       "      <td>[cnn]</td>\n",
       "      <td>1</td>\n",
       "    </tr>\n",
       "  </tbody>\n",
       "</table>\n",
       "</div>"
      ],
      "text/plain": [
       "      Id         CreationDate                                           Tags  \\\n",
       "0  45416  2019-02-12 00:36:29  [python, keras, tensorflow, cnn, probability]   \n",
       "1  45418  2019-02-12 00:50:39                               [neural-network]   \n",
       "2  45422  2019-02-12 04:40:51                  [python, ibm-watson, chatbot]   \n",
       "3  45426  2019-02-12 04:51:49                                        [keras]   \n",
       "5  45428  2019-02-12 05:43:18                                          [cnn]   \n",
       "\n",
       "   deep_learning_questions  \n",
       "0                        1  \n",
       "1                        1  \n",
       "2                        1  \n",
       "3                        1  \n",
       "5                        1  "
      ]
     },
     "execution_count": 34,
     "metadata": {},
     "output_type": "execute_result"
    }
   ],
   "source": [
    "clean_deep= deep_df[deep_df[\"deep_learning_questions\"] == 1]\n",
    "clean_deep.head()"
   ]
  },
  {
   "cell_type": "code",
   "execution_count": 35,
   "metadata": {
    "collapsed": false
   },
   "outputs": [],
   "source": [
    "clean_deep2 = clean_deep.copy()\n",
    "clean_deep2[\"CreationDate\"] = pd.to_datetime(clean_deep2[\"CreationDate\"])\n"
   ]
  },
  {
   "cell_type": "code",
   "execution_count": 36,
   "metadata": {
    "collapsed": false
   },
   "outputs": [],
   "source": [
    "\n",
    "clean_deep2[\"CreationDate\"] = clean_deep2[\"CreationDate\"].dt.to_period('M')\n"
   ]
  },
  {
   "cell_type": "code",
   "execution_count": 37,
   "metadata": {
    "collapsed": false
   },
   "outputs": [
    {
     "data": {
      "text/html": [
       "<div>\n",
       "<style scoped>\n",
       "    .dataframe tbody tr th:only-of-type {\n",
       "        vertical-align: middle;\n",
       "    }\n",
       "\n",
       "    .dataframe tbody tr th {\n",
       "        vertical-align: top;\n",
       "    }\n",
       "\n",
       "    .dataframe thead th {\n",
       "        text-align: right;\n",
       "    }\n",
       "</style>\n",
       "<table border=\"1\" class=\"dataframe\">\n",
       "  <thead>\n",
       "    <tr style=\"text-align: right;\">\n",
       "      <th></th>\n",
       "      <th>Id</th>\n",
       "      <th>CreationDate</th>\n",
       "      <th>Tags</th>\n",
       "      <th>deep_learning_questions</th>\n",
       "    </tr>\n",
       "  </thead>\n",
       "  <tbody>\n",
       "    <tr>\n",
       "      <th>0</th>\n",
       "      <td>45416</td>\n",
       "      <td>2019-02</td>\n",
       "      <td>[python, keras, tensorflow, cnn, probability]</td>\n",
       "      <td>1</td>\n",
       "    </tr>\n",
       "    <tr>\n",
       "      <th>1</th>\n",
       "      <td>45418</td>\n",
       "      <td>2019-02</td>\n",
       "      <td>[neural-network]</td>\n",
       "      <td>1</td>\n",
       "    </tr>\n",
       "    <tr>\n",
       "      <th>2</th>\n",
       "      <td>45422</td>\n",
       "      <td>2019-02</td>\n",
       "      <td>[python, ibm-watson, chatbot]</td>\n",
       "      <td>1</td>\n",
       "    </tr>\n",
       "    <tr>\n",
       "      <th>3</th>\n",
       "      <td>45426</td>\n",
       "      <td>2019-02</td>\n",
       "      <td>[keras]</td>\n",
       "      <td>1</td>\n",
       "    </tr>\n",
       "    <tr>\n",
       "      <th>5</th>\n",
       "      <td>45428</td>\n",
       "      <td>2019-02</td>\n",
       "      <td>[cnn]</td>\n",
       "      <td>1</td>\n",
       "    </tr>\n",
       "  </tbody>\n",
       "</table>\n",
       "</div>"
      ],
      "text/plain": [
       "      Id CreationDate                                           Tags  \\\n",
       "0  45416      2019-02  [python, keras, tensorflow, cnn, probability]   \n",
       "1  45418      2019-02                               [neural-network]   \n",
       "2  45422      2019-02                  [python, ibm-watson, chatbot]   \n",
       "3  45426      2019-02                                        [keras]   \n",
       "5  45428      2019-02                                          [cnn]   \n",
       "\n",
       "   deep_learning_questions  \n",
       "0                        1  \n",
       "1                        1  \n",
       "2                        1  \n",
       "3                        1  \n",
       "5                        1  "
      ]
     },
     "execution_count": 37,
     "metadata": {},
     "output_type": "execute_result"
    }
   ],
   "source": [
    "clean_deep2.head()"
   ]
  },
  {
   "cell_type": "code",
   "execution_count": 38,
   "metadata": {
    "collapsed": false
   },
   "outputs": [],
   "source": [
    "plot_data = clean_deep2[\"CreationDate\"].dt.year.value_counts()\n",
    "plot_data= plot_data.sort_index(ascending = True)"
   ]
  },
  {
   "cell_type": "code",
   "execution_count": 39,
   "metadata": {
    "collapsed": false
   },
   "outputs": [
    {
     "data": {
      "text/plain": [
       "<matplotlib.axes._subplots.AxesSubplot at 0x7f4eefeac400>"
      ]
     },
     "execution_count": 39,
     "metadata": {},
     "output_type": "execute_result"
    },
    {
     "data": {
      "image/png": "[encoded data removed]",
      "text/plain": [
       "<matplotlib.figure.Figure at 0x7f4ef018df28>"
      ]
     },
     "metadata": {},
     "output_type": "display_data"
    }
   ],
   "source": [
    "plot_data.plot(kind = \"barh\", figsize =(20,10))"
   ]
  },
  {
   "cell_type": "markdown",
   "metadata": {},
   "source": [
    "We can see that the number of questions pertainng to Deep Learning is rising constantly every year. The outlier in the year 2020 is due to incomplete data in our csv file, so we can drop results that are 2020 and over."
   ]
  },
  {
   "cell_type": "code",
   "execution_count": null,
   "metadata": {
    "collapsed": true
   },
   "outputs": [],
   "source": []
  },
  {
   "cell_type": "code",
   "execution_count": null,
   "metadata": {
    "collapsed": true
   },
   "outputs": [],
   "source": []
  },
  {
   "cell_type": "code",
   "execution_count": null,
   "metadata": {
    "collapsed": true
   },
   "outputs": [],
   "source": []
  }
 ],
 "metadata": {
  "kernelspec": {
   "display_name": "Python 3",
   "language": "python",
   "name": "python3"
  },
  "language_info": {
   "codemirror_mode": {
    "name": "ipython",
    "version": 3
   },
   "file_extension": ".py",
   "mimetype": "text/x-python",
   "name": "python",
   "nbconvert_exporter": "python",
   "pygments_lexer": "ipython3",
   "version": "3.4.3"
  }
 },
 "nbformat": 4,
 "nbformat_minor": 2
}
