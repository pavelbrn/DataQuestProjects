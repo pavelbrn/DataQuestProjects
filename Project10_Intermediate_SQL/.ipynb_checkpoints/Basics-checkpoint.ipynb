{
 "cells": [
  {
   "cell_type": "markdown",
   "metadata": {
    "collapsed": true
   },
   "source": [
    "# Answering Business Questions Using SQL"
   ]
  },
  {
   "cell_type": "markdown",
   "metadata": {},
   "source": [
    "In this guided project we will practice using more advanced SQL queries to answer business questions pertaining to our chinook database.\n",
    "\n"
   ]
  },
  {
   "cell_type": "code",
   "execution_count": null,
   "metadata": {
    "collapsed": true
   },
   "outputs": [],
   "source": []
  },
  {
   "cell_type": "code",
   "execution_count": null,
   "metadata": {
    "collapsed": true
   },
   "outputs": [],
   "source": []
  },
  {
   "cell_type": "code",
   "execution_count": 1,
   "metadata": {
    "collapsed": false
   },
   "outputs": [
    {
     "data": {
      "text/plain": [
       "'Connected: None@chinook.db'"
      ]
     },
     "execution_count": 1,
     "metadata": {},
     "output_type": "execute_result"
    }
   ],
   "source": [
    "%%capture\n",
    "%load_ext sql\n",
    "%sql sqlite:///chinook.db"
   ]
  },
  {
   "cell_type": "markdown",
   "metadata": {},
   "source": [
    "### Explore all the database tables"
   ]
  },
  {
   "cell_type": "code",
   "execution_count": 2,
   "metadata": {
    "collapsed": false
   },
   "outputs": [
    {
     "name": "stdout",
     "output_type": "stream",
     "text": [
      "Done.\n"
     ]
    },
    {
     "data": {
      "text/html": [
       "<table>\n",
       "    <tr>\n",
       "        <th>type</th>\n",
       "        <th>name</th>\n",
       "        <th>tbl_name</th>\n",
       "        <th>rootpage</th>\n",
       "        <th>sql</th>\n",
       "    </tr>\n",
       "    <tr>\n",
       "        <td>table</td>\n",
       "        <td>album</td>\n",
       "        <td>album</td>\n",
       "        <td>2</td>\n",
       "        <td>CREATE TABLE [album]<br>(<br>    [album_id] INTEGER PRIMARY KEY NOT NULL,<br>    [title] NVARCHAR(160)  NOT NULL,<br>    [artist_id] INTEGER  NOT NULL,<br>    FOREIGN KEY ([artist_id]) REFERENCES [artist] ([artist_id]) <br>\t\tON DELETE NO ACTION ON UPDATE NO ACTION<br>)</td>\n",
       "    </tr>\n",
       "    <tr>\n",
       "        <td>table</td>\n",
       "        <td>artist</td>\n",
       "        <td>artist</td>\n",
       "        <td>3</td>\n",
       "        <td>CREATE TABLE [artist]<br>(<br>    [artist_id] INTEGER PRIMARY KEY NOT NULL,<br>    [name] NVARCHAR(120)<br>)</td>\n",
       "    </tr>\n",
       "    <tr>\n",
       "        <td>table</td>\n",
       "        <td>customer</td>\n",
       "        <td>customer</td>\n",
       "        <td>4</td>\n",
       "        <td>CREATE TABLE [customer]<br>(<br>    [customer_id] INTEGER PRIMARY KEY NOT NULL,<br>    [first_name] NVARCHAR(40)  NOT NULL,<br>    [last_name] NVARCHAR(20)  NOT NULL,<br>    [company] NVARCHAR(80),<br>    [address] NVARCHAR(70),<br>    [city] NVARCHAR(40),<br>    [state] NVARCHAR(40),<br>    [country] NVARCHAR(40),<br>    [postal_code] NVARCHAR(10),<br>    [phone] NVARCHAR(24),<br>    [fax] NVARCHAR(24),<br>    [email] NVARCHAR(60)  NOT NULL,<br>    [support_rep_id] INTEGER,<br>    FOREIGN KEY ([support_rep_id]) REFERENCES [employee] ([employee_id]) <br>\t\tON DELETE NO ACTION ON UPDATE NO ACTION<br>)</td>\n",
       "    </tr>\n",
       "    <tr>\n",
       "        <td>table</td>\n",
       "        <td>employee</td>\n",
       "        <td>employee</td>\n",
       "        <td>5</td>\n",
       "        <td>CREATE TABLE [employee]<br>(<br>    [employee_id] INTEGER PRIMARY KEY NOT NULL,<br>    [last_name] NVARCHAR(20)  NOT NULL,<br>    [first_name] NVARCHAR(20)  NOT NULL,<br>    [title] NVARCHAR(30),<br>    [reports_to] INTEGER,<br>    [birthdate] DATETIME,<br>    [hire_date] DATETIME,<br>    [address] NVARCHAR(70),<br>    [city] NVARCHAR(40),<br>    [state] NVARCHAR(40),<br>    [country] NVARCHAR(40),<br>    [postal_code] NVARCHAR(10),<br>    [phone] NVARCHAR(24),<br>    [fax] NVARCHAR(24),<br>    [email] NVARCHAR(60),<br>    FOREIGN KEY ([reports_to]) REFERENCES [employee] ([employee_id]) <br>\t\tON DELETE NO ACTION ON UPDATE NO ACTION<br>)</td>\n",
       "    </tr>\n",
       "    <tr>\n",
       "        <td>table</td>\n",
       "        <td>genre</td>\n",
       "        <td>genre</td>\n",
       "        <td>6</td>\n",
       "        <td>CREATE TABLE [genre]<br>(<br>    [genre_id] INTEGER PRIMARY KEY NOT NULL,<br>    [name] NVARCHAR(120)<br>)</td>\n",
       "    </tr>\n",
       "    <tr>\n",
       "        <td>table</td>\n",
       "        <td>invoice</td>\n",
       "        <td>invoice</td>\n",
       "        <td>7</td>\n",
       "        <td>CREATE TABLE [invoice]<br>(<br>    [invoice_id] INTEGER PRIMARY KEY NOT NULL,<br>    [customer_id] INTEGER  NOT NULL,<br>    [invoice_date] DATETIME  NOT NULL,<br>    [billing_address] NVARCHAR(70),<br>    [billing_city] NVARCHAR(40),<br>    [billing_state] NVARCHAR(40),<br>    [billing_country] NVARCHAR(40),<br>    [billing_postal_code] NVARCHAR(10),<br>    [total] NUMERIC(10,2)  NOT NULL,<br>    FOREIGN KEY ([customer_id]) REFERENCES [customer] ([customer_id]) <br>\t\tON DELETE NO ACTION ON UPDATE NO ACTION<br>)</td>\n",
       "    </tr>\n",
       "    <tr>\n",
       "        <td>table</td>\n",
       "        <td>invoice_line</td>\n",
       "        <td>invoice_line</td>\n",
       "        <td>8</td>\n",
       "        <td>CREATE TABLE [invoice_line]<br>(<br>    [invoice_line_id] INTEGER PRIMARY KEY NOT NULL,<br>    [invoice_id] INTEGER  NOT NULL,<br>    [track_id] INTEGER  NOT NULL,<br>    [unit_price] NUMERIC(10,2)  NOT NULL,<br>    [quantity] INTEGER  NOT NULL,<br>    FOREIGN KEY ([invoice_id]) REFERENCES [invoice] ([invoice_id]) <br>\t\tON DELETE NO ACTION ON UPDATE NO ACTION,<br>    FOREIGN KEY ([track_id]) REFERENCES [track] ([track_id]) <br>\t\tON DELETE NO ACTION ON UPDATE NO ACTION<br>)</td>\n",
       "    </tr>\n",
       "    <tr>\n",
       "        <td>table</td>\n",
       "        <td>media_type</td>\n",
       "        <td>media_type</td>\n",
       "        <td>9</td>\n",
       "        <td>CREATE TABLE [media_type]<br>(<br>    [media_type_id] INTEGER PRIMARY KEY NOT NULL,<br>    [name] NVARCHAR(120)<br>)</td>\n",
       "    </tr>\n",
       "    <tr>\n",
       "        <td>table</td>\n",
       "        <td>playlist</td>\n",
       "        <td>playlist</td>\n",
       "        <td>10</td>\n",
       "        <td>CREATE TABLE [playlist]<br>(<br>    [playlist_id] INTEGER PRIMARY KEY NOT NULL,<br>    [name] NVARCHAR(120)<br>)</td>\n",
       "    </tr>\n",
       "    <tr>\n",
       "        <td>table</td>\n",
       "        <td>playlist_track</td>\n",
       "        <td>playlist_track</td>\n",
       "        <td>11</td>\n",
       "        <td>CREATE TABLE [playlist_track]<br>(<br>    [playlist_id] INTEGER  NOT NULL,<br>    [track_id] INTEGER  NOT NULL,<br>    CONSTRAINT [pk_playlist_track] PRIMARY KEY  ([playlist_id], [track_id]),<br>    FOREIGN KEY ([playlist_id]) REFERENCES [playlist] ([playlist_id]) <br>\t\tON DELETE NO ACTION ON UPDATE NO ACTION,<br>    FOREIGN KEY ([track_id]) REFERENCES [track] ([track_id]) <br>\t\tON DELETE NO ACTION ON UPDATE NO ACTION<br>)</td>\n",
       "    </tr>\n",
       "    <tr>\n",
       "        <td>index</td>\n",
       "        <td>sqlite_autoindex_playlist_track_1</td>\n",
       "        <td>playlist_track</td>\n",
       "        <td>12</td>\n",
       "        <td>None</td>\n",
       "    </tr>\n",
       "    <tr>\n",
       "        <td>table</td>\n",
       "        <td>track</td>\n",
       "        <td>track</td>\n",
       "        <td>13</td>\n",
       "        <td>CREATE TABLE [track]<br>(<br>    [track_id] INTEGER PRIMARY KEY NOT NULL,<br>    [name] NVARCHAR(200)  NOT NULL,<br>    [album_id] INTEGER,<br>    [media_type_id] INTEGER  NOT NULL,<br>    [genre_id] INTEGER,<br>    [composer] NVARCHAR(220),<br>    [milliseconds] INTEGER  NOT NULL,<br>    [bytes] INTEGER,<br>    [unit_price] NUMERIC(10,2)  NOT NULL,<br>    FOREIGN KEY ([album_id]) REFERENCES [album] ([album_id]) <br>\t\tON DELETE NO ACTION ON UPDATE NO ACTION,<br>    FOREIGN KEY ([genre_id]) REFERENCES [genre] ([genre_id]) <br>\t\tON DELETE NO ACTION ON UPDATE NO ACTION,<br>    FOREIGN KEY ([media_type_id]) REFERENCES [media_type] ([media_type_id]) <br>\t\tON DELETE NO ACTION ON UPDATE NO ACTION<br>)</td>\n",
       "    </tr>\n",
       "    <tr>\n",
       "        <td>index</td>\n",
       "        <td>ifk_albumartist_id</td>\n",
       "        <td>album</td>\n",
       "        <td>16</td>\n",
       "        <td>CREATE INDEX [ifk_albumartist_id] ON [album] ([artist_id])</td>\n",
       "    </tr>\n",
       "    <tr>\n",
       "        <td>index</td>\n",
       "        <td>ifk_customersupport_rep_id</td>\n",
       "        <td>customer</td>\n",
       "        <td>17</td>\n",
       "        <td>CREATE INDEX [ifk_customersupport_rep_id] ON [customer] ([support_rep_id])</td>\n",
       "    </tr>\n",
       "    <tr>\n",
       "        <td>index</td>\n",
       "        <td>ifk_employeereports_to</td>\n",
       "        <td>employee</td>\n",
       "        <td>18</td>\n",
       "        <td>CREATE INDEX [ifk_employeereports_to] ON [employee] ([reports_to])</td>\n",
       "    </tr>\n",
       "    <tr>\n",
       "        <td>index</td>\n",
       "        <td>ifk_invoicecustomer_id</td>\n",
       "        <td>invoice</td>\n",
       "        <td>19</td>\n",
       "        <td>CREATE INDEX [ifk_invoicecustomer_id] ON [invoice] ([customer_id])</td>\n",
       "    </tr>\n",
       "    <tr>\n",
       "        <td>index</td>\n",
       "        <td>ifk_invoice_lineinvoice_id</td>\n",
       "        <td>invoice_line</td>\n",
       "        <td>20</td>\n",
       "        <td>CREATE INDEX [ifk_invoice_lineinvoice_id] ON [invoice_line] ([invoice_id])</td>\n",
       "    </tr>\n",
       "    <tr>\n",
       "        <td>index</td>\n",
       "        <td>ifk_invoice_linetrack_id</td>\n",
       "        <td>invoice_line</td>\n",
       "        <td>21</td>\n",
       "        <td>CREATE INDEX [ifk_invoice_linetrack_id] ON [invoice_line] ([track_id])</td>\n",
       "    </tr>\n",
       "    <tr>\n",
       "        <td>index</td>\n",
       "        <td>ifk_playlist_tracktrack_id</td>\n",
       "        <td>playlist_track</td>\n",
       "        <td>22</td>\n",
       "        <td>CREATE INDEX [ifk_playlist_tracktrack_id] ON [playlist_track] ([track_id])</td>\n",
       "    </tr>\n",
       "    <tr>\n",
       "        <td>index</td>\n",
       "        <td>ifk_trackalbum_id</td>\n",
       "        <td>track</td>\n",
       "        <td>23</td>\n",
       "        <td>CREATE INDEX [ifk_trackalbum_id] ON [track] ([album_id])</td>\n",
       "    </tr>\n",
       "    <tr>\n",
       "        <td>index</td>\n",
       "        <td>ifk_trackgenre_id</td>\n",
       "        <td>track</td>\n",
       "        <td>24</td>\n",
       "        <td>CREATE INDEX [ifk_trackgenre_id] ON [track] ([genre_id])</td>\n",
       "    </tr>\n",
       "    <tr>\n",
       "        <td>index</td>\n",
       "        <td>ifk_trackmedia_type_id</td>\n",
       "        <td>track</td>\n",
       "        <td>25</td>\n",
       "        <td>CREATE INDEX [ifk_trackmedia_type_id] ON [track] ([media_type_id])</td>\n",
       "    </tr>\n",
       "</table>"
      ],
      "text/plain": [
       "[('table', 'album', 'album', 2, 'CREATE TABLE [album]\\n(\\n    [album_id] INTEGER PRIMARY KEY NOT NULL,\\n    [title] NVARCHAR(160)  NOT NULL,\\n    [artist_id] INTEGER  NOT NULL,\\n    FOREIGN KEY ([artist_id]) REFERENCES [artist] ([artist_id]) \\n\\t\\tON DELETE NO ACTION ON UPDATE NO ACTION\\n)'),\n",
       " ('table', 'artist', 'artist', 3, 'CREATE TABLE [artist]\\n(\\n    [artist_id] INTEGER PRIMARY KEY NOT NULL,\\n    [name] NVARCHAR(120)\\n)'),\n",
       " ('table', 'customer', 'customer', 4, 'CREATE TABLE [customer]\\n(\\n    [customer_id] INTEGER PRIMARY KEY NOT NULL,\\n    [first_name] NVARCHAR(40)  NOT NULL,\\n    [last_name] NVARCHAR(20)   ... (276 characters truncated) ...  [support_rep_id] INTEGER,\\n    FOREIGN KEY ([support_rep_id]) REFERENCES [employee] ([employee_id]) \\n\\t\\tON DELETE NO ACTION ON UPDATE NO ACTION\\n)'),\n",
       " ('table', 'employee', 'employee', 5, 'CREATE TABLE [employee]\\n(\\n    [employee_id] INTEGER PRIMARY KEY NOT NULL,\\n    [last_name] NVARCHAR(20)  NOT NULL,\\n    [first_name] NVARCHAR(20)   ... (310 characters truncated) ... 4),\\n    [email] NVARCHAR(60),\\n    FOREIGN KEY ([reports_to]) REFERENCES [employee] ([employee_id]) \\n\\t\\tON DELETE NO ACTION ON UPDATE NO ACTION\\n)'),\n",
       " ('table', 'genre', 'genre', 6, 'CREATE TABLE [genre]\\n(\\n    [genre_id] INTEGER PRIMARY KEY NOT NULL,\\n    [name] NVARCHAR(120)\\n)'),\n",
       " ('table', 'invoice', 'invoice', 7, 'CREATE TABLE [invoice]\\n(\\n    [invoice_id] INTEGER PRIMARY KEY NOT NULL,\\n    [customer_id] INTEGER  NOT NULL,\\n    [invoice_date] DATETIME  NOT NUL ... (195 characters truncated) ... tal] NUMERIC(10,2)  NOT NULL,\\n    FOREIGN KEY ([customer_id]) REFERENCES [customer] ([customer_id]) \\n\\t\\tON DELETE NO ACTION ON UPDATE NO ACTION\\n)'),\n",
       " ('table', 'invoice_line', 'invoice_line', 8, 'CREATE TABLE [invoice_line]\\n(\\n    [invoice_line_id] INTEGER PRIMARY KEY NOT NULL,\\n    [invoice_id] INTEGER  NOT NULL,\\n    [track_id] INTEGER  NOT ... (161 characters truncated) ...  DELETE NO ACTION ON UPDATE NO ACTION,\\n    FOREIGN KEY ([track_id]) REFERENCES [track] ([track_id]) \\n\\t\\tON DELETE NO ACTION ON UPDATE NO ACTION\\n)'),\n",
       " ('table', 'media_type', 'media_type', 9, 'CREATE TABLE [media_type]\\n(\\n    [media_type_id] INTEGER PRIMARY KEY NOT NULL,\\n    [name] NVARCHAR(120)\\n)'),\n",
       " ('table', 'playlist', 'playlist', 10, 'CREATE TABLE [playlist]\\n(\\n    [playlist_id] INTEGER PRIMARY KEY NOT NULL,\\n    [name] NVARCHAR(120)\\n)'),\n",
       " ('table', 'playlist_track', 'playlist_track', 11, 'CREATE TABLE [playlist_track]\\n(\\n    [playlist_id] INTEGER  NOT NULL,\\n    [track_id] INTEGER  NOT NULL,\\n    CONSTRAINT [pk_playlist_track] PRIMARY ... (114 characters truncated) ...  DELETE NO ACTION ON UPDATE NO ACTION,\\n    FOREIGN KEY ([track_id]) REFERENCES [track] ([track_id]) \\n\\t\\tON DELETE NO ACTION ON UPDATE NO ACTION\\n)'),\n",
       " ('index', 'sqlite_autoindex_playlist_track_1', 'playlist_track', 12, None),\n",
       " ('table', 'track', 'track', 13, 'CREATE TABLE [track]\\n(\\n    [track_id] INTEGER PRIMARY KEY NOT NULL,\\n    [name] NVARCHAR(200)  NOT NULL,\\n    [album_id] INTEGER,\\n    [media_type_ ... (377 characters truncated) ... ON ON UPDATE NO ACTION,\\n    FOREIGN KEY ([media_type_id]) REFERENCES [media_type] ([media_type_id]) \\n\\t\\tON DELETE NO ACTION ON UPDATE NO ACTION\\n)'),\n",
       " ('index', 'ifk_albumartist_id', 'album', 16, 'CREATE INDEX [ifk_albumartist_id] ON [album] ([artist_id])'),\n",
       " ('index', 'ifk_customersupport_rep_id', 'customer', 17, 'CREATE INDEX [ifk_customersupport_rep_id] ON [customer] ([support_rep_id])'),\n",
       " ('index', 'ifk_employeereports_to', 'employee', 18, 'CREATE INDEX [ifk_employeereports_to] ON [employee] ([reports_to])'),\n",
       " ('index', 'ifk_invoicecustomer_id', 'invoice', 19, 'CREATE INDEX [ifk_invoicecustomer_id] ON [invoice] ([customer_id])'),\n",
       " ('index', 'ifk_invoice_lineinvoice_id', 'invoice_line', 20, 'CREATE INDEX [ifk_invoice_lineinvoice_id] ON [invoice_line] ([invoice_id])'),\n",
       " ('index', 'ifk_invoice_linetrack_id', 'invoice_line', 21, 'CREATE INDEX [ifk_invoice_linetrack_id] ON [invoice_line] ([track_id])'),\n",
       " ('index', 'ifk_playlist_tracktrack_id', 'playlist_track', 22, 'CREATE INDEX [ifk_playlist_tracktrack_id] ON [playlist_track] ([track_id])'),\n",
       " ('index', 'ifk_trackalbum_id', 'track', 23, 'CREATE INDEX [ifk_trackalbum_id] ON [track] ([album_id])'),\n",
       " ('index', 'ifk_trackgenre_id', 'track', 24, 'CREATE INDEX [ifk_trackgenre_id] ON [track] ([genre_id])'),\n",
       " ('index', 'ifk_trackmedia_type_id', 'track', 25, 'CREATE INDEX [ifk_trackmedia_type_id] ON [track] ([media_type_id])')]"
      ]
     },
     "execution_count": 2,
     "metadata": {},
     "output_type": "execute_result"
    }
   ],
   "source": [
    "\n",
    "%%sql\n",
    "SELECT * from sqlite_master"
   ]
  },
  {
   "cell_type": "markdown",
   "metadata": {},
   "source": [
    "### Most Popular Genres in the USA"
   ]
  },
  {
   "cell_type": "markdown",
   "metadata": {},
   "source": [
    "Lets find out which genres sell the most tracks in the USA"
   ]
  },
  {
   "cell_type": "code",
   "execution_count": 3,
   "metadata": {
    "collapsed": false
   },
   "outputs": [
    {
     "name": "stdout",
     "output_type": "stream",
     "text": [
      "Done.\n"
     ]
    },
    {
     "data": {
      "text/html": [
       "<table>\n",
       "    <tr>\n",
       "        <th>name</th>\n",
       "        <th>genre_count</th>\n",
       "        <th>percent</th>\n",
       "    </tr>\n",
       "    <tr>\n",
       "        <td>Rock</td>\n",
       "        <td>561</td>\n",
       "        <td>53.37773549000951</td>\n",
       "    </tr>\n",
       "    <tr>\n",
       "        <td>Alternative &amp; Punk</td>\n",
       "        <td>130</td>\n",
       "        <td>12.369172216936251</td>\n",
       "    </tr>\n",
       "    <tr>\n",
       "        <td>Metal</td>\n",
       "        <td>124</td>\n",
       "        <td>11.798287345385347</td>\n",
       "    </tr>\n",
       "    <tr>\n",
       "        <td>R&amp;B/Soul</td>\n",
       "        <td>53</td>\n",
       "        <td>5.042816365366318</td>\n",
       "    </tr>\n",
       "    <tr>\n",
       "        <td>Blues</td>\n",
       "        <td>36</td>\n",
       "        <td>3.425309229305423</td>\n",
       "    </tr>\n",
       "    <tr>\n",
       "        <td>Alternative</td>\n",
       "        <td>35</td>\n",
       "        <td>3.3301617507136063</td>\n",
       "    </tr>\n",
       "    <tr>\n",
       "        <td>Latin</td>\n",
       "        <td>22</td>\n",
       "        <td>2.093244529019981</td>\n",
       "    </tr>\n",
       "    <tr>\n",
       "        <td>Pop</td>\n",
       "        <td>22</td>\n",
       "        <td>2.093244529019981</td>\n",
       "    </tr>\n",
       "    <tr>\n",
       "        <td>Hip Hop/Rap</td>\n",
       "        <td>20</td>\n",
       "        <td>1.9029495718363463</td>\n",
       "    </tr>\n",
       "    <tr>\n",
       "        <td>Jazz</td>\n",
       "        <td>14</td>\n",
       "        <td>1.3320647002854424</td>\n",
       "    </tr>\n",
       "    <tr>\n",
       "        <td>Easy Listening</td>\n",
       "        <td>13</td>\n",
       "        <td>1.236917221693625</td>\n",
       "    </tr>\n",
       "    <tr>\n",
       "        <td>Reggae</td>\n",
       "        <td>6</td>\n",
       "        <td>0.570884871550904</td>\n",
       "    </tr>\n",
       "    <tr>\n",
       "        <td>Electronica/Dance</td>\n",
       "        <td>5</td>\n",
       "        <td>0.47573739295908657</td>\n",
       "    </tr>\n",
       "    <tr>\n",
       "        <td>Classical</td>\n",
       "        <td>4</td>\n",
       "        <td>0.3805899143672693</td>\n",
       "    </tr>\n",
       "    <tr>\n",
       "        <td>Heavy Metal</td>\n",
       "        <td>3</td>\n",
       "        <td>0.285442435775452</td>\n",
       "    </tr>\n",
       "    <tr>\n",
       "        <td>Soundtrack</td>\n",
       "        <td>2</td>\n",
       "        <td>0.19029495718363465</td>\n",
       "    </tr>\n",
       "    <tr>\n",
       "        <td>TV Shows</td>\n",
       "        <td>1</td>\n",
       "        <td>0.09514747859181732</td>\n",
       "    </tr>\n",
       "</table>"
      ],
      "text/plain": [
       "[('Rock', 561, 53.37773549000951),\n",
       " ('Alternative & Punk', 130, 12.369172216936251),\n",
       " ('Metal', 124, 11.798287345385347),\n",
       " ('R&B/Soul', 53, 5.042816365366318),\n",
       " ('Blues', 36, 3.425309229305423),\n",
       " ('Alternative', 35, 3.3301617507136063),\n",
       " ('Latin', 22, 2.093244529019981),\n",
       " ('Pop', 22, 2.093244529019981),\n",
       " ('Hip Hop/Rap', 20, 1.9029495718363463),\n",
       " ('Jazz', 14, 1.3320647002854424),\n",
       " ('Easy Listening', 13, 1.236917221693625),\n",
       " ('Reggae', 6, 0.570884871550904),\n",
       " ('Electronica/Dance', 5, 0.47573739295908657),\n",
       " ('Classical', 4, 0.3805899143672693),\n",
       " ('Heavy Metal', 3, 0.285442435775452),\n",
       " ('Soundtrack', 2, 0.19029495718363465),\n",
       " ('TV Shows', 1, 0.09514747859181732)]"
      ]
     },
     "execution_count": 3,
     "metadata": {},
     "output_type": "execute_result"
    }
   ],
   "source": [
    "%%sql\n",
    "WITH usa_sales AS\n",
    "    (SELECT * \n",
    "    FROM invoice\n",
    "    INNER JOIN invoice_line ON invoice_line.invoice_id= invoice.invoice_id \n",
    "    WHERE billing_country = 'USA'\n",
    "    )\n",
    "\n",
    "SELECT genre.name, COUNT(genre.name) genre_count,\n",
    "        CAST(COUNT(genre.name)as float)/ (SELECT COUNT(*)\n",
    "        FROM usa_sales) * 100  percent\n",
    "FROM track\n",
    "LEFT JOIN usa_sales ON track.track_id = usa_sales.track_id  \n",
    "LEFT JOIN genre ON genre.genre_id = track.genre_id\n",
    "WHERE usa_sales.billing_country = 'USA'\n",
    "GROUP BY genre.name\n",
    "ORDER BY genre_count DESC\n"
   ]
  },
  {
   "cell_type": "markdown",
   "metadata": {},
   "source": [
    "The top 3 genres are \"Rock\", \"Alternative & Punk\" and \"Metal\", with the \"Rock\" genre being the most succesful in terms of sales. "
   ]
  },
  {
   "cell_type": "markdown",
   "metadata": {},
   "source": [
    "### Employee Sales Performance"
   ]
  },
  {
   "cell_type": "markdown",
   "metadata": {},
   "source": [
    "In the following cell we will be analyzing the top sales perfomers in the company. "
   ]
  },
  {
   "cell_type": "code",
   "execution_count": 4,
   "metadata": {
    "collapsed": false
   },
   "outputs": [
    {
     "name": "stdout",
     "output_type": "stream",
     "text": [
      "Done.\n"
     ]
    },
    {
     "data": {
      "text/html": [
       "<table>\n",
       "    <tr>\n",
       "        <th>employee_name</th>\n",
       "        <th>total_sales</th>\n",
       "        <th>country</th>\n",
       "    </tr>\n",
       "    <tr>\n",
       "        <td>Jane Peacock</td>\n",
       "        <td>1731.510000000004</td>\n",
       "        <td>Canada</td>\n",
       "    </tr>\n",
       "    <tr>\n",
       "        <td>Margaret Park</td>\n",
       "        <td>1584.0000000000032</td>\n",
       "        <td>Canada</td>\n",
       "    </tr>\n",
       "    <tr>\n",
       "        <td>Steve Johnson</td>\n",
       "        <td>1393.9200000000028</td>\n",
       "        <td>Canada</td>\n",
       "    </tr>\n",
       "    <tr>\n",
       "        <td>Nancy Edwards</td>\n",
       "        <td>None</td>\n",
       "        <td>Canada</td>\n",
       "    </tr>\n",
       "</table>"
      ],
      "text/plain": [
       "[('Jane Peacock', 1731.510000000004, 'Canada'),\n",
       " ('Margaret Park', 1584.0000000000032, 'Canada'),\n",
       " ('Steve Johnson', 1393.9200000000028, 'Canada'),\n",
       " ('Nancy Edwards', None, 'Canada')]"
      ]
     },
     "execution_count": 4,
     "metadata": {},
     "output_type": "execute_result"
    }
   ],
   "source": [
    "%%sql\n",
    "\n",
    "WITH employee_sales AS\n",
    "    (SELECT *\n",
    "    FROM employee\n",
    "    LEFT JOIN customer ON customer.support_rep_id = employee.employee_id )\n",
    "    \n",
    "    \n",
    "SELECT first_name || ' ' || last_name employee_name, \n",
    "    SUM(invoice.total) total_sales,\n",
    "    country\n",
    "FROM employee_sales\n",
    "LEFT JOIN invoice ON invoice.customer_id = employee_sales.customer_id\n",
    "WHERE title LIKE '%sale%'\n",
    "GROUP BY first_name\n",
    "ORDER BY total_sales DESC"
   ]
  },
  {
   "cell_type": "markdown",
   "metadata": {},
   "source": [
    "The top sales person is Jane Peacock from Canada. "
   ]
  },
  {
   "cell_type": "markdown",
   "metadata": {},
   "source": [
    "### Purchasing Power by Country"
   ]
  },
  {
   "cell_type": "markdown",
   "metadata": {},
   "source": [
    "In thi section we will query the total number of sales, customers, the averyge values of sales per customer and the average order value"
   ]
  },
  {
   "cell_type": "markdown",
   "metadata": {},
   "source": [
    "Here we join the largest database(invoice_line) with the customer and invoice databases using an INNER JOIN to access information about total sale value, average sale value per customer and average order value.\n",
    "\n",
    "The values from \"Other\" are sorted to the bottom of the returned table"
   ]
  },
  {
   "cell_type": "code",
   "execution_count": 333,
   "metadata": {
    "collapsed": false
   },
   "outputs": [
    {
     "name": "stdout",
     "output_type": "stream",
     "text": [
      "Done.\n"
     ]
    },
    {
     "data": {
      "text/html": [
       "<table>\n",
       "    <tr>\n",
       "        <th>country_count</th>\n",
       "        <th>total_customers</th>\n",
       "        <th>total_sale_value</th>\n",
       "        <th>average_sales_per_customer</th>\n",
       "        <th>average_order_value</th>\n",
       "        <th>sort</th>\n",
       "    </tr>\n",
       "    <tr>\n",
       "        <td>USA</td>\n",
       "        <td>13</td>\n",
       "        <td>1040.490000000008</td>\n",
       "        <td>80.03769230769292</td>\n",
       "        <td>7.942671755725252</td>\n",
       "        <td>0</td>\n",
       "    </tr>\n",
       "    <tr>\n",
       "        <td>Canada</td>\n",
       "        <td>8</td>\n",
       "        <td>535.5900000000034</td>\n",
       "        <td>66.94875000000043</td>\n",
       "        <td>7.047236842105309</td>\n",
       "        <td>0</td>\n",
       "    </tr>\n",
       "    <tr>\n",
       "        <td>Brazil</td>\n",
       "        <td>5</td>\n",
       "        <td>427.68000000000245</td>\n",
       "        <td>85.53600000000048</td>\n",
       "        <td>7.011147540983647</td>\n",
       "        <td>0</td>\n",
       "    </tr>\n",
       "    <tr>\n",
       "        <td>France</td>\n",
       "        <td>5</td>\n",
       "        <td>389.0700000000021</td>\n",
       "        <td>77.81400000000042</td>\n",
       "        <td>7.781400000000042</td>\n",
       "        <td>0</td>\n",
       "    </tr>\n",
       "    <tr>\n",
       "        <td>Germany</td>\n",
       "        <td>4</td>\n",
       "        <td>334.6200000000016</td>\n",
       "        <td>83.6550000000004</td>\n",
       "        <td>8.161463414634186</td>\n",
       "        <td>0</td>\n",
       "    </tr>\n",
       "    <tr>\n",
       "        <td>Czech Republic</td>\n",
       "        <td>2</td>\n",
       "        <td>273.24000000000103</td>\n",
       "        <td>136.62000000000052</td>\n",
       "        <td>9.108000000000034</td>\n",
       "        <td>0</td>\n",
       "    </tr>\n",
       "    <tr>\n",
       "        <td>United Kingdom</td>\n",
       "        <td>3</td>\n",
       "        <td>245.52000000000078</td>\n",
       "        <td>81.84000000000026</td>\n",
       "        <td>8.768571428571457</td>\n",
       "        <td>0</td>\n",
       "    </tr>\n",
       "    <tr>\n",
       "        <td>Portugal</td>\n",
       "        <td>2</td>\n",
       "        <td>185.13000000000022</td>\n",
       "        <td>92.56500000000011</td>\n",
       "        <td>6.3837931034482835</td>\n",
       "        <td>0</td>\n",
       "    </tr>\n",
       "    <tr>\n",
       "        <td>India</td>\n",
       "        <td>2</td>\n",
       "        <td>183.1500000000002</td>\n",
       "        <td>91.5750000000001</td>\n",
       "        <td>8.72142857142858</td>\n",
       "        <td>0</td>\n",
       "    </tr>\n",
       "    <tr>\n",
       "        <td>Other</td>\n",
       "        <td>15</td>\n",
       "        <td>1094.9400000000085</td>\n",
       "        <td>72.99600000000056</td>\n",
       "        <td>7.448571428571486</td>\n",
       "        <td>1</td>\n",
       "    </tr>\n",
       "</table>"
      ],
      "text/plain": [
       "[('USA', 13, 1040.490000000008, 80.03769230769292, 7.942671755725252, 0),\n",
       " ('Canada', 8, 535.5900000000034, 66.94875000000043, 7.047236842105309, 0),\n",
       " ('Brazil', 5, 427.68000000000245, 85.53600000000048, 7.011147540983647, 0),\n",
       " ('France', 5, 389.0700000000021, 77.81400000000042, 7.781400000000042, 0),\n",
       " ('Germany', 4, 334.6200000000016, 83.6550000000004, 8.161463414634186, 0),\n",
       " ('Czech Republic', 2, 273.24000000000103, 136.62000000000052, 9.108000000000034, 0),\n",
       " ('United Kingdom', 3, 245.52000000000078, 81.84000000000026, 8.768571428571457, 0),\n",
       " ('Portugal', 2, 185.13000000000022, 92.56500000000011, 6.3837931034482835, 0),\n",
       " ('India', 2, 183.1500000000002, 91.5750000000001, 8.72142857142858, 0),\n",
       " ('Other', 15, 1094.9400000000085, 72.99600000000056, 7.448571428571486, 1)]"
      ]
     },
     "execution_count": 333,
     "metadata": {},
     "output_type": "execute_result"
    }
   ],
   "source": [
    "%%sql \n",
    "\n",
    "\n",
    "WITH customer_country AS \n",
    "(SELECT *,\n",
    "CASE \n",
    "WHEN (SELECT COUNT(*)\n",
    "        FROM customer\n",
    "        WHERE customer.country = c.country\n",
    "     ) = 1 THEN 'Other'\n",
    "    ELSE c.country\n",
    "    END AS country_count\n",
    "FROM invoice_line \n",
    "INNER JOIN invoice ON invoice.invoice_id = invoice_line.invoice_id\n",
    "INNER JOIN customer c ON c.customer_id = invoice.customer_id\n",
    ")\n",
    "\n",
    "\n",
    "SELECT *\n",
    "FROM \n",
    "(SELECT \n",
    " country_count , \n",
    "        COUNT(DISTINCT customer_id) total_customers,\n",
    "        SUM(unit_price) total_sale_value,\n",
    "        SUM(unit_price)/ COUNT(DISTINCT customer_id) average_sales_per_customer,\n",
    "        SUM(unit_price)/ COUNT(DISTINCT invoice_id) average_order_value,\n",
    " CASE \n",
    "     WHEN country_count = 'Other' THEN 1\n",
    "     ELSE 0\n",
    "     END AS sort\n",
    "FROM customer_country\n",
    "GROUP BY country_count\n",
    "ORDER BY sort ASC, total_sale_value DESC\n",
    ")\n",
    "\n",
    "\n"
   ]
  },
  {
   "cell_type": "code",
   "execution_count": null,
   "metadata": {
    "collapsed": false
   },
   "outputs": [],
   "source": [
    "\n"
   ]
  },
  {
   "cell_type": "code",
   "execution_count": null,
   "metadata": {
    "collapsed": true
   },
   "outputs": [],
   "source": []
  },
  {
   "cell_type": "code",
   "execution_count": null,
   "metadata": {
    "collapsed": true
   },
   "outputs": [],
   "source": []
  },
  {
   "cell_type": "code",
   "execution_count": null,
   "metadata": {
    "collapsed": true
   },
   "outputs": [],
   "source": []
  },
  {
   "cell_type": "code",
   "execution_count": null,
   "metadata": {
    "collapsed": true
   },
   "outputs": [],
   "source": []
  },
  {
   "cell_type": "code",
   "execution_count": null,
   "metadata": {
    "collapsed": true
   },
   "outputs": [],
   "source": []
  },
  {
   "cell_type": "code",
   "execution_count": null,
   "metadata": {
    "collapsed": true
   },
   "outputs": [],
   "source": []
  },
  {
   "cell_type": "code",
   "execution_count": null,
   "metadata": {
    "collapsed": true
   },
   "outputs": [],
   "source": []
  },
  {
   "cell_type": "code",
   "execution_count": null,
   "metadata": {
    "collapsed": true
   },
   "outputs": [],
   "source": []
  }
 ],
 "metadata": {
  "kernelspec": {
   "display_name": "Python 3",
   "language": "python",
   "name": "python3"
  },
  "language_info": {
   "codemirror_mode": {
    "name": "ipython",
    "version": 3
   },
   "file_extension": ".py",
   "mimetype": "text/x-python",
   "name": "python",
   "nbconvert_exporter": "python",
   "pygments_lexer": "ipython3",
   "version": "3.4.3"
  }
 },
 "nbformat": 4,
 "nbformat_minor": 2
}
