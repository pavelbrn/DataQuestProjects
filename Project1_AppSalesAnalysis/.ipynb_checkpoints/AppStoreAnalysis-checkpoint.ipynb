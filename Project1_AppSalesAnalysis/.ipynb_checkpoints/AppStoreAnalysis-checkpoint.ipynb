{
 "cells": [
  {
   "cell_type": "markdown",
   "metadata": {},
   "source": [
    "# AppStore and Google Play free apps Analysis"
   ]
  },
  {
   "cell_type": "markdown",
   "metadata": {},
   "source": [
    "## Exploring the Data"
   ]
  },
  {
   "cell_type": "markdown",
   "metadata": {},
   "source": [
    "- In the code below we open `AppleStore.csv` and `googleplaystore.csv`\n",
    "- Both file objects are then converted into lists using the csv reader() and the built-in list() functions\n",
    "- Apple store data set: https://www.kaggle.com/lava18/google-play-store-apps\n",
    "- Google Play data set: https://www.kaggle.com/ramamet4/app-store-apple-data-set-10k-apps\n",
    "PBZ"
   ]
  },
  {
   "cell_type": "code",
   "execution_count": 1,
   "metadata": {},
   "outputs": [],
   "source": [
    "from csv import reader\n",
    "\n",
    "app_store = open('AppleStore.csv')\n",
    "appstore_read= reader(app_store)\n",
    "app_store_list = list(appstore_read)\n",
    "app_store_header = app_store_list[0]\n",
    "appstore_data = app_store_list[1:]\n"
   ]
  },
  {
   "cell_type": "code",
   "execution_count": 2,
   "metadata": {},
   "outputs": [],
   "source": [
    "google_store = open('googleplaystore.csv')\n",
    "google_read = reader(google_store)\n",
    "google_list=list(google_read)\n",
    "google_header = google_list[0]\n",
    "google_data=google_list[1:]"
   ]
  },
  {
   "cell_type": "markdown",
   "metadata": {},
   "source": [
    "- The `explore_data()` function takes in a list and returns a spliced list within the defined parameters\n",
    "- Setting the third parameter to `True` inside `explore_data()` returns the amount of rows and columns inside the list"
   ]
  },
  {
   "cell_type": "code",
   "execution_count": 3,
   "metadata": {},
   "outputs": [],
   "source": [
    "def explore_data(dataset, start, end, rows_and_columns=False):\n",
    "    dataset_slice = dataset[start:end]    \n",
    "    for row in dataset_slice:\n",
    "        print(row)\n",
    "        print('\\n') # adds a new (empty) line after each row\n",
    "\n",
    "    if rows_and_columns:\n",
    "        print('Number of rows:', len(dataset))\n",
    "        print('Number of columns:', len(dataset[0]))\n",
    "        print('\\n') # adds a new (empty) line after each row"
   ]
  },
  {
   "cell_type": "code",
   "execution_count": 4,
   "metadata": {},
   "outputs": [
    {
     "name": "stdout",
     "output_type": "stream",
     "text": [
      "['Photo Editor & Candy Camera & Grid & ScrapBook', 'ART_AND_DESIGN', '4.1', '159', '19M', '10,000+', 'Free', '0', 'Everyone', 'Art & Design', 'January 7, 2018', '1.0.0', '4.0.3 and up']\n",
      "\n",
      "\n",
      "Number of rows: 10841\n",
      "Number of columns: 13\n",
      "\n",
      "\n",
      "['284882215', 'Facebook', '389879808', 'USD', '0.0', '2974676', '212', '3.5', '3.5', '95.0', '4+', 'Social Networking', '37', '1', '29', '1']\n",
      "\n",
      "\n",
      "Number of rows: 7197\n",
      "Number of columns: 16\n",
      "\n",
      "\n"
     ]
    }
   ],
   "source": [
    "explore_data(google_data,0,1, True)\n",
    "explore_data(appstore_data,0,1,True)"
   ]
  },
  {
   "cell_type": "markdown",
   "metadata": {},
   "source": [
    "## Data Cleaning"
   ]
  },
  {
   "cell_type": "markdown",
   "metadata": {},
   "source": [
    "- Row 10472(excluding header) has a missing 'Category' column. We remove this row from the gogle data set."
   ]
  },
  {
   "cell_type": "code",
   "execution_count": 5,
   "metadata": {},
   "outputs": [
    {
     "name": "stdout",
     "output_type": "stream",
     "text": [
      "['Life Made WI-Fi Touchscreen Photo Frame', '1.9', '19', '3.0M', '1,000+', 'Free', '0', 'Everyone', '', 'February 11, 2018', '1.0.19', '4.0 and up']\n"
     ]
    }
   ],
   "source": [
    "print(google_data[10472])"
   ]
  },
  {
   "cell_type": "code",
   "execution_count": 6,
   "metadata": {},
   "outputs": [],
   "source": [
    "del google_data[10472]"
   ]
  },
  {
   "cell_type": "code",
   "execution_count": 7,
   "metadata": {},
   "outputs": [
    {
     "name": "stdout",
     "output_type": "stream",
     "text": [
      "['osmino Wi-Fi: free WiFi', 'TOOLS', '4.2', '134203', '4.1M', '10,000,000+', 'Free', '0', 'Everyone', 'Tools', 'August 7, 2018', '6.06.14', '4.4 and up']\n"
     ]
    }
   ],
   "source": [
    "print(google_data[10472])"
   ]
  },
  {
   "cell_type": "code",
   "execution_count": 8,
   "metadata": {},
   "outputs": [
    {
     "name": "stdout",
     "output_type": "stream",
     "text": [
      "Google duplicates: 1181\n",
      "Apple duplicates: 0\n"
     ]
    }
   ],
   "source": [
    "def duplicate_apps(dataset):\n",
    "    duplicate_set=[]\n",
    "    unique_apps = []\n",
    "    for app in dataset[1:]:\n",
    "        #print(len(app))\n",
    "        # First column contains name:\n",
    "        name = app[0]\n",
    "        if name in unique_apps:\n",
    "            duplicate_set.append(name)\n",
    "        else:\n",
    "            unique_apps.append(name)\n",
    "   # length = len(duplicate_apps)\n",
    "   \n",
    "    return duplicate_set\n",
    "\n",
    "google_duplicates = duplicate_apps(google_data)\n",
    "apple_duplicates = duplicate_apps(appstore_data)\n",
    "print('Google duplicates: '+str(len(google_duplicates)))\n",
    "print('Apple duplicates: '+str(len(apple_duplicates)))"
   ]
  },
  {
   "cell_type": "markdown",
   "metadata": {},
   "source": [
    "- Duplicate entries will be removed using the review number as a criteria, since this will show the newest entry. Only a duplicate with the highest number of reviews will be kept, the rest will be discarded.\n"
   ]
  },
  {
   "cell_type": "code",
   "execution_count": 9,
   "metadata": {},
   "outputs": [
    {
     "name": "stdout",
     "output_type": "stream",
     "text": [
      "9659\n"
     ]
    }
   ],
   "source": [
    "def remove_duplicates(dataset):\n",
    "    android_clean = []\n",
    "    already_added=[]\n",
    "    \n",
    "    reviews_max = {}\n",
    "    for app in dataset:\n",
    "        # First column contains name:\n",
    "        # Third column containt review count\n",
    "        app_name = app[0]\n",
    "        reviews = float(app[3])\n",
    "        \n",
    "        # Do not use an else statement here because if rereviews>reviews_max[app_name] is False\n",
    "        # then it will update the reviews falsely inside the else condition.\n",
    "        if app_name in reviews_max and reviews>reviews_max[app_name]:\n",
    "            reviews_max[app_name] = reviews\n",
    "        if app_name not in reviews_max:\n",
    "            reviews_max[app_name] = reviews\n",
    "            \n",
    "    for app in dataset:\n",
    "        app_name = app[0]\n",
    "        reviews = float(app[3])\n",
    "        \n",
    "        # include 'app_name not in already_added' otherwise we will be counting\n",
    "        # duplicate reviews as well.\n",
    "        if reviews == reviews_max[app_name] and app_name not in already_added:\n",
    "            android_clean.append(app)\n",
    "            already_added.append(app_name)\n",
    "            \n",
    "    return android_clean\n",
    "            \n",
    "    #print(len(reviews_max))\n",
    "    #print(len(android_clean))\n",
    "    \n",
    "            \n",
    "android_no_duplicates= remove_duplicates(google_data)\n",
    "print(len(android_no_duplicates))"
   ]
  },
  {
   "cell_type": "markdown",
   "metadata": {},
   "source": [
    "- In the cell below we remove all apps containing non-Latin characters from the data set\n",
    "- The data that will be analyzed needs to be targeted at English speaking audiences\n",
    "- We test our first function for removing characters as an excercise from DQ\n",
    "- It is important to note that app names in the apple data set are in column index 2, so our function has to include the specific name index for that data set"
   ]
  },
  {
   "cell_type": "code",
   "execution_count": 10,
   "metadata": {},
   "outputs": [
    {
     "name": "stdout",
     "output_type": "stream",
     "text": [
      "6183\n"
     ]
    }
   ],
   "source": [
    "def get_latin_char_apps(dataset,name_index):\n",
    "    android_cleaned_eng=[]\n",
    "    \n",
    "    for app in dataset:\n",
    "        name = app[name_index]\n",
    "        if check_characters(name):\n",
    "            android_cleaned_eng.append(app)\n",
    "            #print(name)\n",
    "    #print(android_cleaned_eng)\n",
    "    return android_cleaned_eng\n",
    "\n",
    "    \n",
    "\n",
    "def check_characters(string):\n",
    "    max_non_latin_char = 0\n",
    "    for character in string:\n",
    "        if ord(character) >=127:\n",
    "            #print(\"non-Latin characters detected\"+str(max_non_latin_char))\n",
    "            max_non_latin_char +=1\n",
    "            if max_non_latin_char>3:\n",
    "                #print(string)\n",
    "                return False\n",
    "    return True\n",
    "    \n",
    "            \n",
    "android_latin_char = get_latin_char_apps(android_no_duplicates,0)\n",
    "app_store_latin_char = get_latin_char_apps(appstore_data,1)\n",
    "\n",
    "print(len(app_store_latin_char))\n",
    "\n",
    "#check_characters('爱奇艺PPS -《欢乐颂2》电视剧热播')\n",
    "    "
   ]
  },
  {
   "cell_type": "markdown",
   "metadata": {},
   "source": [
    "- Our current cleaned datasets are `android_latin_char` and `app_store_latin_char`.\n",
    "- These contain no duplicated and only apps with Latin characters\n",
    "- In the next cell we isolate all free apps found in the Apple and Adroid stores."
   ]
  },
  {
   "cell_type": "code",
   "execution_count": 11,
   "metadata": {},
   "outputs": [
    {
     "name": "stdout",
     "output_type": "stream",
     "text": [
      "['id', 'track_name', 'size_bytes', 'currency', 'price', 'rating_count_tot', 'rating_count_ver', 'user_rating', 'user_rating_ver', 'ver', 'cont_rating', 'prime_genre', 'sup_devices.num', 'ipadSc_urls.num', 'lang.num', 'vpp_lic']\n",
      "\n",
      "\n",
      "['App', 'Category', 'Rating', 'Reviews', 'Size', 'Installs', 'Type', 'Price', 'Content Rating', 'Genres', 'Last Updated', 'Current Ver', 'Android Ver']\n"
     ]
    }
   ],
   "source": [
    "# Printing the headers for column reference:\n",
    "print(app_store_header)\n",
    "print('\\n')\n",
    "print(google_header)"
   ]
  },
  {
   "cell_type": "code",
   "execution_count": 15,
   "metadata": {},
   "outputs": [
    {
     "name": "stdout",
     "output_type": "stream",
     "text": [
      "8864\n",
      "3222\n"
     ]
    }
   ],
   "source": [
    "def get_free_apps(dataset, index):\n",
    "    free_apps_list = []\n",
    "    \n",
    "    for row in dataset:\n",
    "        free_apps = row[index]\n",
    "        #print(free_apps)\n",
    "        if free_apps == '0' or free_apps == '0.0':\n",
    "            free_apps_list.append(row)\n",
    "    #print(free_apps_list)\n",
    "    \n",
    "    return free_apps_list\n",
    "\n",
    "#print(android_latin_char)\n",
    "\n",
    "appstore_free = get_free_apps(app_store_latin_char,4)\n",
    "android_free = get_free_apps(android_latin_char,7)\n",
    "\n",
    "print(len(android_free))\n",
    "print(len(appstore_free))"
   ]
  },
  {
   "cell_type": "markdown",
   "metadata": {},
   "source": [
    "## Frequency Table of most popular apps on Android and iOS"
   ]
  },
  {
   "cell_type": "markdown",
   "metadata": {},
   "source": [
    "- In this section we will create a frequency table of the most poluar app genres on both the iOS and Android platforms.\n",
    "- A common App profile that fits into both the App Store and Google Play will have a boreader audience\n",
    "- Using our corresponding datasets we will create frequency tables for the \"prime_genre\"(App Store, index 11), \"Genres\"(Google, index 9) and \"Category\"(Google, index 1) columns.\n",
    "- Our current, cleaned datasets are called `appstore_free` and `android_free`\n",
    "- freq_table(dataset,index) will return a frequency table converted to a percentage"
   ]
  },
  {
   "cell_type": "code",
   "execution_count": 65,
   "metadata": {},
   "outputs": [
    {
     "name": "stdout",
     "output_type": "stream",
     "text": [
      "App Store Prime Genres:\n",
      "Games  :  58.16263190564867\n",
      "Entertainment  :  7.883302296710118\n",
      "Photo & Video  :  4.9658597144630665\n",
      "Education  :  3.662321539416512\n",
      "Social Networking  :  3.2898820608317814\n",
      "Shopping  :  2.60707635009311\n",
      "Utilities  :  2.5139664804469275\n",
      "Sports  :  2.1415270018621975\n",
      "Music  :  2.0484171322160147\n",
      "Health & Fitness  :  2.0173805090006205\n",
      "Productivity  :  1.7380509000620732\n",
      "Lifestyle  :  1.5828677839851024\n",
      "News  :  1.3345747982619491\n",
      "Travel  :  1.2414649286157666\n",
      "Finance  :  1.1173184357541899\n",
      "Weather  :  0.8690254500310366\n",
      "Food & Drink  :  0.8069522036002483\n",
      "Reference  :  0.5586592178770949\n",
      "Business  :  0.5276225946617008\n",
      "Book  :  0.4345127250155183\n",
      "Navigation  :  0.186219739292365\n",
      "Medical  :  0.186219739292365\n",
      "Catalogs  :  0.12414649286157665\n",
      "\n",
      "\n",
      "Google Genres:\n",
      "Tools  :  8.449909747292418\n",
      "Entertainment  :  6.069494584837545\n",
      "Education  :  5.347472924187725\n",
      "Business  :  4.591606498194946\n",
      "Productivity  :  3.892148014440433\n",
      "Lifestyle  :  3.892148014440433\n",
      "Finance  :  3.7003610108303246\n",
      "Medical  :  3.531137184115524\n",
      "Sports  :  3.463447653429603\n",
      "Personalization  :  3.3167870036101084\n",
      "Communication  :  3.2378158844765346\n",
      "Action  :  3.1024368231046933\n",
      "Health & Fitness  :  3.0798736462093865\n",
      "Photography  :  2.944494584837545\n",
      "News & Magazines  :  2.7978339350180503\n",
      "Social  :  2.6624548736462095\n",
      "Travel & Local  :  2.3240072202166067\n",
      "Shopping  :  2.2450361010830324\n",
      "Books & Reference  :  2.1435018050541514\n",
      "Simulation  :  2.0419675090252705\n",
      "Dating  :  1.861462093862816\n",
      "Arcade  :  1.8501805054151623\n",
      "Video Players & Editors  :  1.7712093862815883\n",
      "Casual  :  1.7599277978339352\n",
      "Maps & Navigation  :  1.3989169675090252\n",
      "Food & Drink  :  1.2409747292418771\n",
      "Puzzle  :  1.128158844765343\n",
      "Racing  :  0.9927797833935018\n",
      "Role Playing  :  0.9363718411552346\n",
      "Libraries & Demo  :  0.9363718411552346\n",
      "Auto & Vehicles  :  0.9250902527075812\n",
      "Strategy  :  0.9138086642599278\n",
      "House & Home  :  0.8235559566787004\n",
      "Weather  :  0.8009927797833934\n",
      "Events  :  0.7107400722021661\n",
      "Adventure  :  0.6768953068592057\n",
      "Comics  :  0.6092057761732852\n",
      "Beauty  :  0.5979241877256317\n",
      "Art & Design  :  0.5979241877256317\n",
      "Parenting  :  0.4963898916967509\n",
      "Card  :  0.45126353790613716\n",
      "Casino  :  0.42870036101083037\n",
      "Trivia  :  0.41741877256317694\n",
      "Educational;Education  :  0.39485559566787\n",
      "Board  :  0.3835740072202166\n",
      "Educational  :  0.3722924187725632\n",
      "Education;Education  :  0.33844765342960287\n",
      "Word  :  0.2594765342960289\n",
      "Casual;Pretend Play  :  0.236913357400722\n",
      "Music  :  0.2030685920577617\n",
      "Racing;Action & Adventure  :  0.16922382671480143\n",
      "Puzzle;Brain Games  :  0.16922382671480143\n",
      "Entertainment;Music & Video  :  0.16922382671480143\n",
      "Casual;Brain Games  :  0.13537906137184114\n",
      "Casual;Action & Adventure  :  0.13537906137184114\n",
      "Arcade;Action & Adventure  :  0.12409747292418773\n",
      "Action;Action & Adventure  :  0.10153429602888085\n",
      "Educational;Pretend Play  :  0.09025270758122744\n",
      "Simulation;Action & Adventure  :  0.078971119133574\n",
      "Parenting;Education  :  0.078971119133574\n",
      "Entertainment;Brain Games  :  0.078971119133574\n",
      "Board;Brain Games  :  0.078971119133574\n",
      "Parenting;Music & Video  :  0.06768953068592057\n",
      "Educational;Brain Games  :  0.06768953068592057\n",
      "Casual;Creativity  :  0.06768953068592057\n",
      "Art & Design;Creativity  :  0.06768953068592057\n",
      "Education;Pretend Play  :  0.056407942238267145\n",
      "Role Playing;Pretend Play  :  0.04512635379061372\n",
      "Education;Creativity  :  0.04512635379061372\n",
      "Role Playing;Action & Adventure  :  0.033844765342960284\n",
      "Puzzle;Action & Adventure  :  0.033844765342960284\n",
      "Entertainment;Creativity  :  0.033844765342960284\n",
      "Entertainment;Action & Adventure  :  0.033844765342960284\n",
      "Educational;Creativity  :  0.033844765342960284\n",
      "Educational;Action & Adventure  :  0.033844765342960284\n",
      "Education;Music & Video  :  0.033844765342960284\n",
      "Education;Brain Games  :  0.033844765342960284\n",
      "Education;Action & Adventure  :  0.033844765342960284\n",
      "Adventure;Action & Adventure  :  0.033844765342960284\n",
      "Video Players & Editors;Music & Video  :  0.02256317689530686\n",
      "Sports;Action & Adventure  :  0.02256317689530686\n",
      "Simulation;Pretend Play  :  0.02256317689530686\n",
      "Puzzle;Creativity  :  0.02256317689530686\n",
      "Music;Music & Video  :  0.02256317689530686\n",
      "Entertainment;Pretend Play  :  0.02256317689530686\n",
      "Casual;Education  :  0.02256317689530686\n",
      "Board;Action & Adventure  :  0.02256317689530686\n",
      "Video Players & Editors;Creativity  :  0.01128158844765343\n",
      "Trivia;Education  :  0.01128158844765343\n",
      "Travel & Local;Action & Adventure  :  0.01128158844765343\n",
      "Tools;Education  :  0.01128158844765343\n",
      "Strategy;Education  :  0.01128158844765343\n",
      "Strategy;Creativity  :  0.01128158844765343\n",
      "Strategy;Action & Adventure  :  0.01128158844765343\n",
      "Simulation;Education  :  0.01128158844765343\n",
      "Role Playing;Brain Games  :  0.01128158844765343\n",
      "Racing;Pretend Play  :  0.01128158844765343\n",
      "Puzzle;Education  :  0.01128158844765343\n",
      "Parenting;Brain Games  :  0.01128158844765343\n",
      "Music & Audio;Music & Video  :  0.01128158844765343\n",
      "Lifestyle;Pretend Play  :  0.01128158844765343\n",
      "Lifestyle;Education  :  0.01128158844765343\n",
      "Health & Fitness;Education  :  0.01128158844765343\n",
      "Health & Fitness;Action & Adventure  :  0.01128158844765343\n",
      "Entertainment;Education  :  0.01128158844765343\n",
      "Communication;Creativity  :  0.01128158844765343\n",
      "Comics;Creativity  :  0.01128158844765343\n",
      "Casual;Music & Video  :  0.01128158844765343\n",
      "Card;Action & Adventure  :  0.01128158844765343\n",
      "Books & Reference;Education  :  0.01128158844765343\n",
      "Art & Design;Pretend Play  :  0.01128158844765343\n",
      "Art & Design;Action & Adventure  :  0.01128158844765343\n",
      "Arcade;Pretend Play  :  0.01128158844765343\n",
      "Adventure;Education  :  0.01128158844765343\n",
      "\n",
      "\n",
      "Google Categories:\n",
      "FAMILY  :  18.907942238267147\n",
      "GAME  :  9.724729241877256\n",
      "TOOLS  :  8.461191335740072\n",
      "BUSINESS  :  4.591606498194946\n",
      "LIFESTYLE  :  3.9034296028880866\n",
      "PRODUCTIVITY  :  3.892148014440433\n",
      "FINANCE  :  3.7003610108303246\n",
      "MEDICAL  :  3.531137184115524\n",
      "SPORTS  :  3.395758122743682\n",
      "PERSONALIZATION  :  3.3167870036101084\n",
      "COMMUNICATION  :  3.2378158844765346\n",
      "HEALTH_AND_FITNESS  :  3.0798736462093865\n",
      "PHOTOGRAPHY  :  2.944494584837545\n",
      "NEWS_AND_MAGAZINES  :  2.7978339350180503\n",
      "SOCIAL  :  2.6624548736462095\n",
      "TRAVEL_AND_LOCAL  :  2.33528880866426\n",
      "SHOPPING  :  2.2450361010830324\n",
      "BOOKS_AND_REFERENCE  :  2.1435018050541514\n",
      "DATING  :  1.861462093862816\n",
      "VIDEO_PLAYERS  :  1.7937725631768955\n",
      "MAPS_AND_NAVIGATION  :  1.3989169675090252\n",
      "FOOD_AND_DRINK  :  1.2409747292418771\n",
      "EDUCATION  :  1.1620036101083033\n",
      "ENTERTAINMENT  :  0.9589350180505415\n",
      "LIBRARIES_AND_DEMO  :  0.9363718411552346\n",
      "AUTO_AND_VEHICLES  :  0.9250902527075812\n",
      "HOUSE_AND_HOME  :  0.8235559566787004\n",
      "WEATHER  :  0.8009927797833934\n",
      "EVENTS  :  0.7107400722021661\n",
      "PARENTING  :  0.6543321299638989\n",
      "ART_AND_DESIGN  :  0.6430505415162455\n",
      "COMICS  :  0.6204873646209386\n",
      "BEAUTY  :  0.5979241877256317\n"
     ]
    }
   ],
   "source": [
    "def freq_table( dataset, index: int,is_percent = False):\n",
    "    freq_dict={}\n",
    "    \n",
    "    for row in dataset:\n",
    "        column = row[index]\n",
    "        if column in freq_dict:\n",
    "            freq_dict[column] +=1\n",
    "        else:\n",
    "            freq_dict[column] = 1\n",
    "    \n",
    "    #return a percent value:\n",
    "    if is_percent:\n",
    "        for key in freq_dict:\n",
    "            freq_dict[key]= (freq_dict[key]/len(dataset))*100\n",
    "    \n",
    "    return freq_dict\n",
    "     \n",
    "\n",
    "def display_table(dataset_dict,index,is_percent):\n",
    "    #return a dict based on our inut dictionary and index\n",
    "    table = freq_table(dataset_dict,index,is_percent)\n",
    "    table_display = []\n",
    "    #print(table)\n",
    "    \n",
    "    for key in table :\n",
    "        # Input Value, Key into each tupule\n",
    "        # Add this tupule to the table_displal list\n",
    "        key_val_as_tuple = (table[key],key)\n",
    "        table_display.append(key_val_as_tuple)\n",
    "    \n",
    "    # Create a new list with the sorted values\n",
    "    table_sorted = sorted(table_display, reverse=True)\n",
    "    for category in table_sorted:\n",
    "        #print the category in reverse with the name being first then the value\n",
    "        print(category[1], ' : ', category[0])\n",
    "\n",
    "#explore_data(appstore_free,0,3222)\n",
    "print(\"App Store Prime Genres:\")\n",
    "display_table(appstore_free,11,True)\n",
    "print(\"\\n\")\n",
    "print(\"Google Genres:\")\n",
    "display_table(android_free,9,True)\n",
    "print(\"\\n\")\n",
    "print(\"Google Categories:\")\n",
    "display_table(android_free,1,True)"
   ]
  },
  {
   "cell_type": "markdown",
   "metadata": {},
   "source": [
    "- The most common genre on the apple app store is \"Games\" with approximately 58.1%. Entertainment, Photo & Video is place 2 and 3 respecively.\n",
    "-  The majority of the top 10 apps are designed for entertainment purposes\n",
    "- The frequency table alone can not give a concise recommendation about an optimal app profile, since a large category of apps might also have smaller user bases than niche apps.\n"
   ]
  },
  {
   "cell_type": "markdown",
   "metadata": {},
   "source": [
    "- The most common genres for the google Play Store are Family, Games, Tool and Entertainment\n",
    "- Google genres and categories are moe diverse compared to the app store\n",
    "- Based on the frequency tables, the most common factor between Google and Apple is Entertainment and Education.  These could be a top tier nieche categories worth exploring for a new app profile. "
   ]
  },
  {
   "cell_type": "markdown",
   "metadata": {},
   "source": [
    "## Calculating the Most Popular Genres"
   ]
  },
  {
   "cell_type": "markdown",
   "metadata": {},
   "source": [
    "- For google the most popular genres can be seen inside the \"Installs\" category(index 5)\n",
    "- In the app store we will calculate the popularity based on the number of average user rating for each individual category.\n",
    "- For this we will use the \"rating_count_tot\"(index 5) column.\n"
   ]
  },
  {
   "cell_type": "code",
   "execution_count": 85,
   "metadata": {},
   "outputs": [
    {
     "name": "stdout",
     "output_type": "stream",
     "text": [
      "{'Social Networking': 71548.34905660378, 'Photo & Video': 28441.54375, 'Games': 22788.6696905016, 'Music': 57326.530303030304, 'Reference': 74942.11111111111, 'Health & Fitness': 23298.015384615384, 'Weather': 52279.892857142855, 'Utilities': 18684.456790123455, 'Travel': 28243.8, 'Shopping': 26919.690476190477, 'News': 21248.023255813954, 'Navigation': 86090.33333333333, 'Lifestyle': 16485.764705882353, 'Entertainment': 14029.830708661417, 'Food & Drink': 33333.92307692308, 'Sports': 23008.898550724636, 'Book': 39758.5, 'Finance': 31467.944444444445, 'Education': 7003.983050847458, 'Productivity': 21028.410714285714, 'Business': 7491.117647058823, 'Catalogs': 4004.0, 'Medical': 612.0}\n"
     ]
    }
   ],
   "source": [
    "prime_genre= freq_table(appstore_free,11,False)\n",
    "#print(prime_genre)\n",
    "\n",
    "def avg_usr_rating_category(dataset,index_column_genre):\n",
    "    prime_genre= freq_table(dataset,index_column_genre,False)\n",
    "    \n",
    "    #Loop through the unique genre list\n",
    "    for genre in prime_genre:\n",
    "        #app_genre = app[-5]\n",
    "        \n",
    "        total_sum_usr_rting = 0\n",
    "        len_genre = 0   \n",
    "        # Compare each genrey type in data set to unique genre list, get its rating and \n",
    "        # expand the genre list length\n",
    "        for sub_search in dataset:\n",
    "                data_genre = sub_search[-5]\n",
    "                if data_genre == genre:\n",
    "                    # Add up the user ratings\n",
    "                    total_sum_usr_rting += float(sub_search[5])\n",
    "                    len_genre+=1\n",
    "        average = total_sum_usr_rting/len_genre\n",
    "        \n",
    "        #replace the frequency table value with the average user rating\n",
    "        prime_genre[genre] = average\n",
    "\n",
    "    return prime_genre\n",
    "\n",
    "average_rating = avg_usr_rating_category(appstore_free,11)        \n",
    "print(average_rating)\n",
    "    \n",
    "    "
   ]
  },
  {
   "cell_type": "markdown",
   "metadata": {},
   "source": [
    "- In the next section we will be calculating the average number of installs per app genre for the Google Play data set. The current \"Installs\" category is too broad of a description of the install numbers, for this project we will consider the broad install ranges as absolute installs, i.e 100,000+ installs will become 100,000 installs."
   ]
  },
  {
   "cell_type": "code",
   "execution_count": 111,
   "metadata": {},
   "outputs": [
    {
     "name": "stdout",
     "output_type": "stream",
     "text": [
      "{'ART_AND_DESIGN': 1986335.0877192982, 'AUTO_AND_VEHICLES': 647317.8170731707, 'BEAUTY': 513151.88679245283, 'BOOKS_AND_REFERENCE': 8767811.894736841, 'BUSINESS': 1712290.1474201474, 'COMICS': 817657.2727272727, 'COMMUNICATION': 38456119.167247385, 'DATING': 854028.8303030303, 'EDUCATION': 1833495.145631068, 'ENTERTAINMENT': 11640705.88235294, 'EVENTS': 253542.22222222222, 'FINANCE': 1387692.475609756, 'FOOD_AND_DRINK': 1924897.7363636363, 'HEALTH_AND_FITNESS': 4188821.9853479853, 'HOUSE_AND_HOME': 1331540.5616438356, 'LIBRARIES_AND_DEMO': 638503.734939759, 'LIFESTYLE': 1437816.2687861272, 'GAME': 15588015.603248259, 'FAMILY': 3695641.8198090694, 'MEDICAL': 120550.61980830671, 'SOCIAL': 23253652.127118643, 'SHOPPING': 7036877.311557789, 'PHOTOGRAPHY': 17840110.40229885, 'SPORTS': 3638640.1428571427, 'TRAVEL_AND_LOCAL': 13984077.710144928, 'TOOLS': 10801391.298666667, 'PERSONALIZATION': 5201482.6122448975, 'PRODUCTIVITY': 16787331.344927534, 'PARENTING': 542603.6206896552, 'WEATHER': 5074486.197183099, 'VIDEO_PLAYERS': 24727872.452830188, 'NEWS_AND_MAGAZINES': 9549178.467741935, 'MAPS_AND_NAVIGATION': 4056941.7741935486}\n"
     ]
    }
   ],
   "source": [
    "def google_avg_installs_genre(dataset, index_column_genre):\n",
    "    categories_dict = freq_table(dataset,index_column_genre)\n",
    "    # For the android data set the Category column index is 1\n",
    "    #print(categories_dict)\n",
    "    for category in categories_dict:\n",
    "        \n",
    "        total = 0\n",
    "        len_category = 0\n",
    "        for app in dataset:\n",
    "            data_category = app[index_column_genre]\n",
    "            if category == data_category:\n",
    "                len_category += 1\n",
    "                string = app[5]\n",
    "                string = string.replace('+','')\n",
    "                string = string.replace(',','')\n",
    "                installs = float(string)\n",
    "                #print(installs)\n",
    "                total += installs\n",
    "            if len_category != 0:\n",
    "                average = total/len_category\n",
    "            \n",
    "        categories_dict[category] = average\n",
    "    return categories_dict\n",
    "\n",
    "print(google_avg_installs_genre(android_free,1))\n",
    "    "
   ]
  },
  {
   "cell_type": "markdown",
   "metadata": {},
   "source": []
  }
 ],
 "metadata": {
  "kernelspec": {
   "display_name": "Python 3",
   "language": "python",
   "name": "python3"
  },
  "language_info": {
   "codemirror_mode": {
    "name": "ipython",
    "version": 3
   },
   "file_extension": ".py",
   "mimetype": "text/x-python",
   "name": "python",
   "nbconvert_exporter": "python",
   "pygments_lexer": "ipython3",
   "version": "3.8.2"
  }
 },
 "nbformat": 4,
 "nbformat_minor": 2
}
